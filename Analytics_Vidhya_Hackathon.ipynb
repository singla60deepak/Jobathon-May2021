{
 "cells": [
  {
   "cell_type": "code",
   "execution_count": 4,
   "id": "7cb76589",
   "metadata": {},
   "outputs": [],
   "source": [
    "## importing the libraries for data manuplation and preprocessingabs'\n",
    "import pandas as pd\n",
    "import numpy as np\n",
    "import os\n",
    "import math \n",
    "from sklearn.preprocessing import OneHotEncoder"
   ]
  },
  {
   "cell_type": "code",
   "execution_count": 5,
   "id": "e3f7226a",
   "metadata": {},
   "outputs": [],
   "source": [
    "## import libraries for visualization\n",
    "import matplotlib.pyplot as plt\n",
    "from matplotlib.patches import Patch\n",
    "from matplotlib.lines import Line2D\n",
    "import seaborn as sns"
   ]
  },
  {
   "cell_type": "code",
   "execution_count": 6,
   "id": "c2508528",
   "metadata": {},
   "outputs": [],
   "source": [
    "## importing libraries for Model Building\n",
    "from sklearn.linear_model import LogisticRegression\n",
    "from sklearn.ensemble import RandomForestClassifier\n",
    "import xgboost as xgb\n",
    "\n",
    "from sklearn.model_selection import train_test_split\n",
    "from sklearn.model_selection import ParameterGrid"
   ]
  },
  {
   "cell_type": "code",
   "execution_count": 7,
   "id": "340c54b5",
   "metadata": {},
   "outputs": [],
   "source": [
    "## import libraries for performance metrices\n",
    "from sklearn.metrics import roc_auc_score\n",
    "from sklearn.metrics import plot_roc_curve\n",
    "from sklearn.metrics import classification_report\n",
    "import sklearn.metrics as metrics"
   ]
  },
  {
   "cell_type": "code",
   "execution_count": 8,
   "id": "f9edc122",
   "metadata": {},
   "outputs": [
    {
     "data": {
      "text/plain": [
       "'/Users/deepaksingla/Desktop'"
      ]
     },
     "execution_count": 8,
     "metadata": {},
     "output_type": "execute_result"
    }
   ],
   "source": [
    "# checking the current working directory\n",
    "os.getcwd()"
   ]
  },
  {
   "cell_type": "code",
   "execution_count": 9,
   "id": "e724d73b",
   "metadata": {},
   "outputs": [],
   "source": [
    "## reading the training data\n",
    "df1=pd.read_csv(\"/Users/deepaksingla/Desktop/company/jobathon/train_s3TEQDk.csv\")"
   ]
  },
  {
   "cell_type": "code",
   "execution_count": 10,
   "id": "706764ac",
   "metadata": {},
   "outputs": [],
   "source": [
    "## reading the 30% test data\n",
    "tdf1=pd.read_csv(\"/Users/deepaksingla/Desktop/company/jobathon/test_mSzZ8RL.csv\")"
   ]
  },
  {
   "cell_type": "code",
   "execution_count": 11,
   "id": "2d9fd780",
   "metadata": {},
   "outputs": [
    {
     "name": "stdout",
     "output_type": "stream",
     "text": [
      "(245725, 11)\n"
     ]
    },
    {
     "data": {
      "text/html": [
       "<div>\n",
       "<style scoped>\n",
       "    .dataframe tbody tr th:only-of-type {\n",
       "        vertical-align: middle;\n",
       "    }\n",
       "\n",
       "    .dataframe tbody tr th {\n",
       "        vertical-align: top;\n",
       "    }\n",
       "\n",
       "    .dataframe thead th {\n",
       "        text-align: right;\n",
       "    }\n",
       "</style>\n",
       "<table border=\"1\" class=\"dataframe\">\n",
       "  <thead>\n",
       "    <tr style=\"text-align: right;\">\n",
       "      <th></th>\n",
       "      <th>ID</th>\n",
       "      <th>Gender</th>\n",
       "      <th>Age</th>\n",
       "      <th>Region_Code</th>\n",
       "      <th>Occupation</th>\n",
       "      <th>Channel_Code</th>\n",
       "      <th>Vintage</th>\n",
       "      <th>Credit_Product</th>\n",
       "      <th>Avg_Account_Balance</th>\n",
       "      <th>Is_Active</th>\n",
       "      <th>Is_Lead</th>\n",
       "    </tr>\n",
       "  </thead>\n",
       "  <tbody>\n",
       "    <tr>\n",
       "      <th>0</th>\n",
       "      <td>NNVBBKZB</td>\n",
       "      <td>Female</td>\n",
       "      <td>73</td>\n",
       "      <td>RG268</td>\n",
       "      <td>Other</td>\n",
       "      <td>X3</td>\n",
       "      <td>43</td>\n",
       "      <td>No</td>\n",
       "      <td>1045696</td>\n",
       "      <td>No</td>\n",
       "      <td>0</td>\n",
       "    </tr>\n",
       "    <tr>\n",
       "      <th>1</th>\n",
       "      <td>IDD62UNG</td>\n",
       "      <td>Female</td>\n",
       "      <td>30</td>\n",
       "      <td>RG277</td>\n",
       "      <td>Salaried</td>\n",
       "      <td>X1</td>\n",
       "      <td>32</td>\n",
       "      <td>No</td>\n",
       "      <td>581988</td>\n",
       "      <td>No</td>\n",
       "      <td>0</td>\n",
       "    </tr>\n",
       "    <tr>\n",
       "      <th>2</th>\n",
       "      <td>HD3DSEMC</td>\n",
       "      <td>Female</td>\n",
       "      <td>56</td>\n",
       "      <td>RG268</td>\n",
       "      <td>Self_Employed</td>\n",
       "      <td>X3</td>\n",
       "      <td>26</td>\n",
       "      <td>No</td>\n",
       "      <td>1484315</td>\n",
       "      <td>Yes</td>\n",
       "      <td>0</td>\n",
       "    </tr>\n",
       "    <tr>\n",
       "      <th>3</th>\n",
       "      <td>BF3NC7KV</td>\n",
       "      <td>Male</td>\n",
       "      <td>34</td>\n",
       "      <td>RG270</td>\n",
       "      <td>Salaried</td>\n",
       "      <td>X1</td>\n",
       "      <td>19</td>\n",
       "      <td>No</td>\n",
       "      <td>470454</td>\n",
       "      <td>No</td>\n",
       "      <td>0</td>\n",
       "    </tr>\n",
       "    <tr>\n",
       "      <th>4</th>\n",
       "      <td>TEASRWXV</td>\n",
       "      <td>Female</td>\n",
       "      <td>30</td>\n",
       "      <td>RG282</td>\n",
       "      <td>Salaried</td>\n",
       "      <td>X1</td>\n",
       "      <td>33</td>\n",
       "      <td>No</td>\n",
       "      <td>886787</td>\n",
       "      <td>No</td>\n",
       "      <td>0</td>\n",
       "    </tr>\n",
       "  </tbody>\n",
       "</table>\n",
       "</div>"
      ],
      "text/plain": [
       "         ID  Gender  Age Region_Code     Occupation Channel_Code  Vintage  \\\n",
       "0  NNVBBKZB  Female   73       RG268          Other           X3       43   \n",
       "1  IDD62UNG  Female   30       RG277       Salaried           X1       32   \n",
       "2  HD3DSEMC  Female   56       RG268  Self_Employed           X3       26   \n",
       "3  BF3NC7KV    Male   34       RG270       Salaried           X1       19   \n",
       "4  TEASRWXV  Female   30       RG282       Salaried           X1       33   \n",
       "\n",
       "  Credit_Product  Avg_Account_Balance Is_Active  Is_Lead  \n",
       "0             No              1045696        No        0  \n",
       "1             No               581988        No        0  \n",
       "2             No              1484315       Yes        0  \n",
       "3             No               470454        No        0  \n",
       "4             No               886787        No        0  "
      ]
     },
     "execution_count": 11,
     "metadata": {},
     "output_type": "execute_result"
    }
   ],
   "source": [
    "## checking shape and head of training data\n",
    "print(df1.shape)\n",
    "df1.head()"
   ]
  },
  {
   "cell_type": "code",
   "execution_count": 12,
   "id": "df61b1a7",
   "metadata": {},
   "outputs": [
    {
     "name": "stdout",
     "output_type": "stream",
     "text": [
      "(105312, 10)\n"
     ]
    },
    {
     "data": {
      "text/html": [
       "<div>\n",
       "<style scoped>\n",
       "    .dataframe tbody tr th:only-of-type {\n",
       "        vertical-align: middle;\n",
       "    }\n",
       "\n",
       "    .dataframe tbody tr th {\n",
       "        vertical-align: top;\n",
       "    }\n",
       "\n",
       "    .dataframe thead th {\n",
       "        text-align: right;\n",
       "    }\n",
       "</style>\n",
       "<table border=\"1\" class=\"dataframe\">\n",
       "  <thead>\n",
       "    <tr style=\"text-align: right;\">\n",
       "      <th></th>\n",
       "      <th>ID</th>\n",
       "      <th>Gender</th>\n",
       "      <th>Age</th>\n",
       "      <th>Region_Code</th>\n",
       "      <th>Occupation</th>\n",
       "      <th>Channel_Code</th>\n",
       "      <th>Vintage</th>\n",
       "      <th>Credit_Product</th>\n",
       "      <th>Avg_Account_Balance</th>\n",
       "      <th>Is_Active</th>\n",
       "    </tr>\n",
       "  </thead>\n",
       "  <tbody>\n",
       "    <tr>\n",
       "      <th>0</th>\n",
       "      <td>VBENBARO</td>\n",
       "      <td>Male</td>\n",
       "      <td>29</td>\n",
       "      <td>RG254</td>\n",
       "      <td>Other</td>\n",
       "      <td>X1</td>\n",
       "      <td>25</td>\n",
       "      <td>Yes</td>\n",
       "      <td>742366</td>\n",
       "      <td>No</td>\n",
       "    </tr>\n",
       "    <tr>\n",
       "      <th>1</th>\n",
       "      <td>CCMEWNKY</td>\n",
       "      <td>Male</td>\n",
       "      <td>43</td>\n",
       "      <td>RG268</td>\n",
       "      <td>Other</td>\n",
       "      <td>X2</td>\n",
       "      <td>49</td>\n",
       "      <td>NaN</td>\n",
       "      <td>925537</td>\n",
       "      <td>No</td>\n",
       "    </tr>\n",
       "    <tr>\n",
       "      <th>2</th>\n",
       "      <td>VK3KGA9M</td>\n",
       "      <td>Male</td>\n",
       "      <td>31</td>\n",
       "      <td>RG270</td>\n",
       "      <td>Salaried</td>\n",
       "      <td>X1</td>\n",
       "      <td>14</td>\n",
       "      <td>No</td>\n",
       "      <td>215949</td>\n",
       "      <td>No</td>\n",
       "    </tr>\n",
       "    <tr>\n",
       "      <th>3</th>\n",
       "      <td>TT8RPZVC</td>\n",
       "      <td>Male</td>\n",
       "      <td>29</td>\n",
       "      <td>RG272</td>\n",
       "      <td>Other</td>\n",
       "      <td>X1</td>\n",
       "      <td>33</td>\n",
       "      <td>No</td>\n",
       "      <td>868070</td>\n",
       "      <td>No</td>\n",
       "    </tr>\n",
       "    <tr>\n",
       "      <th>4</th>\n",
       "      <td>SHQZEYTZ</td>\n",
       "      <td>Female</td>\n",
       "      <td>29</td>\n",
       "      <td>RG270</td>\n",
       "      <td>Other</td>\n",
       "      <td>X1</td>\n",
       "      <td>19</td>\n",
       "      <td>No</td>\n",
       "      <td>657087</td>\n",
       "      <td>No</td>\n",
       "    </tr>\n",
       "  </tbody>\n",
       "</table>\n",
       "</div>"
      ],
      "text/plain": [
       "         ID  Gender  Age Region_Code Occupation Channel_Code  Vintage  \\\n",
       "0  VBENBARO    Male   29       RG254      Other           X1       25   \n",
       "1  CCMEWNKY    Male   43       RG268      Other           X2       49   \n",
       "2  VK3KGA9M    Male   31       RG270   Salaried           X1       14   \n",
       "3  TT8RPZVC    Male   29       RG272      Other           X1       33   \n",
       "4  SHQZEYTZ  Female   29       RG270      Other           X1       19   \n",
       "\n",
       "  Credit_Product  Avg_Account_Balance Is_Active  \n",
       "0            Yes               742366        No  \n",
       "1            NaN               925537        No  \n",
       "2             No               215949        No  \n",
       "3             No               868070        No  \n",
       "4             No               657087        No  "
      ]
     },
     "execution_count": 12,
     "metadata": {},
     "output_type": "execute_result"
    }
   ],
   "source": [
    "## checking shape and head of test data\n",
    "print(tdf1.shape)\n",
    "tdf1.head()"
   ]
  },
  {
   "cell_type": "code",
   "execution_count": 13,
   "id": "082a159f",
   "metadata": {},
   "outputs": [
    {
     "name": "stdout",
     "output_type": "stream",
     "text": [
      "0    187437\n",
      "1     58288\n",
      "Name: Is_Lead, dtype: int64\n"
     ]
    },
    {
     "data": {
      "text/plain": [
       "0    0.762792\n",
       "1    0.237208\n",
       "Name: Is_Lead, dtype: float64"
      ]
     },
     "execution_count": 13,
     "metadata": {},
     "output_type": "execute_result"
    }
   ],
   "source": [
    "## checking traget variable event rate\n",
    "print(df1[\"Is_Lead\"].value_counts())\n",
    "df1[\"Is_Lead\"].value_counts()/df1.shape[0]"
   ]
  },
  {
   "cell_type": "code",
   "execution_count": 14,
   "id": "77266ad7",
   "metadata": {},
   "outputs": [
    {
     "data": {
      "text/plain": [
       "ID                         0\n",
       "Gender                     0\n",
       "Age                        0\n",
       "Region_Code                0\n",
       "Occupation                 0\n",
       "Channel_Code               0\n",
       "Vintage                    0\n",
       "Credit_Product         29325\n",
       "Avg_Account_Balance        0\n",
       "Is_Active                  0\n",
       "Is_Lead                    0\n",
       "dtype: int64"
      ]
     },
     "execution_count": 14,
     "metadata": {},
     "output_type": "execute_result"
    }
   ],
   "source": [
    "## checking the null values in training data\n",
    "df1.isnull().sum()"
   ]
  },
  {
   "cell_type": "code",
   "execution_count": 15,
   "id": "ee76ba09",
   "metadata": {},
   "outputs": [
    {
     "data": {
      "text/plain": [
       "ID                         0\n",
       "Gender                     0\n",
       "Age                        0\n",
       "Region_Code                0\n",
       "Occupation                 0\n",
       "Channel_Code               0\n",
       "Vintage                    0\n",
       "Credit_Product         12522\n",
       "Avg_Account_Balance        0\n",
       "Is_Active                  0\n",
       "dtype: int64"
      ]
     },
     "execution_count": 15,
     "metadata": {},
     "output_type": "execute_result"
    }
   ],
   "source": [
    "## checking the null values in test data\n",
    "tdf1.isnull().sum()"
   ]
  },
  {
   "cell_type": "code",
   "execution_count": 16,
   "id": "143b4800",
   "metadata": {},
   "outputs": [
    {
     "name": "stdout",
     "output_type": "stream",
     "text": [
      "ID                     object\n",
      "Gender                 object\n",
      "Age                     int64\n",
      "Region_Code            object\n",
      "Occupation             object\n",
      "Channel_Code           object\n",
      "Vintage                 int64\n",
      "Credit_Product         object\n",
      "Avg_Account_Balance     int64\n",
      "Is_Active              object\n",
      "Is_Lead                 int64\n",
      "dtype: object\n",
      "ID                     object\n",
      "Gender                 object\n",
      "Age                     int64\n",
      "Region_Code            object\n",
      "Occupation             object\n",
      "Channel_Code           object\n",
      "Vintage                 int64\n",
      "Credit_Product         object\n",
      "Avg_Account_Balance     int64\n",
      "Is_Active              object\n",
      "dtype: object\n"
     ]
    }
   ],
   "source": [
    "## checking the dtypes of traing and testing\n",
    "print(df1.dtypes)\n",
    "print(tdf1.dtypes)"
   ]
  },
  {
   "cell_type": "code",
   "execution_count": 17,
   "id": "8d8bd9d5",
   "metadata": {},
   "outputs": [
    {
     "name": "stdout",
     "output_type": "stream",
     "text": [
      "['Gender', 'Region_Code', 'Occupation', 'Channel_Code', 'Credit_Product', 'Is_Active'] 6\n",
      "['Age', 'Vintage', 'Avg_Account_Balance'] 3\n",
      "['ID'] 1\n",
      "['Is_Lead'] 1\n"
     ]
    }
   ],
   "source": [
    "## creating a list of var based on their types\n",
    "catg_var=[\"Gender\",\"Region_Code\",\"Occupation\",\"Channel_Code\",\"Credit_Product\",\"Is_Active\"]\n",
    "cont_var=[\"Age\",\"Vintage\",\"Avg_Account_Balance\"]\n",
    "cust_id=[\"ID\"]\n",
    "target_var=[\"Is_Lead\"]\n",
    "print(str(catg_var),len(catg_var))\n",
    "print(str(cont_var),len(cont_var))\n",
    "print(str(cust_id),len(cust_id))\n",
    "print(str(target_var),len(target_var))"
   ]
  },
  {
   "cell_type": "code",
   "execution_count": 18,
   "id": "77628c2c",
   "metadata": {},
   "outputs": [
    {
     "name": "stdout",
     "output_type": "stream",
     "text": [
      "Gender 2\n",
      "Region_Code 35\n",
      "Occupation 4\n",
      "Channel_Code 4\n",
      "Credit_Product 2\n",
      "Is_Active 2\n"
     ]
    }
   ],
   "source": [
    "## checking the number of unique values for categorivcal var in training data\n",
    "for i in (catg_var):\n",
    "    print(i,df1[i].nunique())"
   ]
  },
  {
   "cell_type": "code",
   "execution_count": 19,
   "id": "43f14959",
   "metadata": {},
   "outputs": [
    {
     "name": "stdout",
     "output_type": "stream",
     "text": [
      "Gender 2\n",
      "Region_Code 35\n",
      "Occupation 4\n",
      "Channel_Code 4\n",
      "Credit_Product 2\n",
      "Is_Active 2\n"
     ]
    }
   ],
   "source": [
    "## checking the number of unique values for categorivcal var in test data\n",
    "for i in (catg_var):\n",
    "    print(i,tdf1[i].nunique())"
   ]
  },
  {
   "cell_type": "code",
   "execution_count": 20,
   "id": "f373d706",
   "metadata": {},
   "outputs": [
    {
     "name": "stdout",
     "output_type": "stream",
     "text": [
      "Gender ['Female' 'Male']\n",
      "Region_Code ['RG268' 'RG277' 'RG270' 'RG282' 'RG261' 'RG265' 'RG283' 'RG254' 'RG269'\n",
      " 'RG257' 'RG279' 'RG280' 'RG252' 'RG284' 'RG259' 'RG281' 'RG258' 'RG266'\n",
      " 'RG260' 'RG274' 'RG256' 'RG275' 'RG273' 'RG267' 'RG272' 'RG251' 'RG262'\n",
      " 'RG264' 'RG278' 'RG276' 'RG263' 'RG250' 'RG255' 'RG253' 'RG271']\n",
      "Occupation ['Other' 'Salaried' 'Self_Employed' 'Entrepreneur']\n",
      "Channel_Code ['X3' 'X1' 'X2' 'X4']\n",
      "Credit_Product ['No' nan 'Yes']\n",
      "Is_Active ['No' 'Yes']\n"
     ]
    }
   ],
   "source": [
    "## checking the unique values for categorical var in training data\n",
    "for i in (catg_var):\n",
    "    print(i,df1[i].unique())"
   ]
  },
  {
   "cell_type": "code",
   "execution_count": 21,
   "id": "e01e52d4",
   "metadata": {},
   "outputs": [
    {
     "name": "stdout",
     "output_type": "stream",
     "text": [
      "Gender Male      134197\n",
      "Female    111528\n",
      "Name: Gender, dtype: int64\n",
      "Region_Code RG268    35934\n",
      "RG283    29416\n",
      "RG254    26840\n",
      "RG284    19320\n",
      "RG277    12826\n",
      "RG280    12775\n",
      "RG269     7863\n",
      "RG270     7720\n",
      "RG261     7633\n",
      "RG257     6101\n",
      "RG251     5950\n",
      "RG282     5829\n",
      "RG274     5286\n",
      "RG272     5252\n",
      "RG281     5093\n",
      "RG273     4497\n",
      "RG252     4286\n",
      "RG279     3976\n",
      "RG263     3687\n",
      "RG275     3245\n",
      "RG260     3110\n",
      "RG256     2847\n",
      "RG264     2793\n",
      "RG276     2764\n",
      "RG259     2586\n",
      "RG250     2496\n",
      "RG255     2018\n",
      "RG258     1951\n",
      "RG253     1858\n",
      "RG278     1822\n",
      "RG262     1788\n",
      "RG266     1578\n",
      "RG265     1546\n",
      "RG271     1542\n",
      "RG267     1497\n",
      "Name: Region_Code, dtype: int64\n",
      "Occupation Self_Employed    100886\n",
      "Salaried          71999\n",
      "Other             70173\n",
      "Entrepreneur       2667\n",
      "Name: Occupation, dtype: int64\n",
      "Channel_Code X1    103718\n",
      "X3     68712\n",
      "X2     67726\n",
      "X4      5569\n",
      "Name: Channel_Code, dtype: int64\n",
      "Credit_Product No     144357\n",
      "Yes     72043\n",
      "Name: Credit_Product, dtype: int64\n",
      "Is_Active No     150290\n",
      "Yes     95435\n",
      "Name: Is_Active, dtype: int64\n"
     ]
    }
   ],
   "source": [
    "## checking the unique values value counts for categorical var in training data\n",
    "for i in (catg_var):\n",
    "    print(i,df1[i].value_counts())"
   ]
  },
  {
   "cell_type": "code",
   "execution_count": 22,
   "id": "e37f320e",
   "metadata": {},
   "outputs": [],
   "source": [
    "## creating an copy of dataframe\n",
    "df2=df1.copy()\n",
    "tdf2=tdf1.copy()"
   ]
  },
  {
   "cell_type": "markdown",
   "id": "b61b67b1",
   "metadata": {},
   "source": [
    "## Null value treatment"
   ]
  },
  {
   "cell_type": "code",
   "execution_count": 23,
   "id": "6ef3f467",
   "metadata": {},
   "outputs": [
    {
     "data": {
      "text/plain": [
       "ID                         0\n",
       "Gender                     0\n",
       "Age                        0\n",
       "Region_Code                0\n",
       "Occupation                 0\n",
       "Channel_Code               0\n",
       "Vintage                    0\n",
       "Credit_Product         29325\n",
       "Avg_Account_Balance        0\n",
       "Is_Active                  0\n",
       "Is_Lead                    0\n",
       "dtype: int64"
      ]
     },
     "execution_count": 23,
     "metadata": {},
     "output_type": "execute_result"
    }
   ],
   "source": [
    "## checking the null values in training data\n",
    "df2.isnull().sum()"
   ]
  },
  {
   "cell_type": "code",
   "execution_count": 24,
   "id": "384e741b",
   "metadata": {},
   "outputs": [
    {
     "data": {
      "text/plain": [
       "ID                         0\n",
       "Gender                     0\n",
       "Age                        0\n",
       "Region_Code                0\n",
       "Occupation                 0\n",
       "Channel_Code               0\n",
       "Vintage                    0\n",
       "Credit_Product         12522\n",
       "Avg_Account_Balance        0\n",
       "Is_Active                  0\n",
       "dtype: int64"
      ]
     },
     "execution_count": 24,
     "metadata": {},
     "output_type": "execute_result"
    }
   ],
   "source": [
    "## checking the null values in training data\n",
    "tdf2.isnull().sum()"
   ]
  },
  {
   "cell_type": "code",
   "execution_count": 25,
   "id": "16bf1685",
   "metadata": {},
   "outputs": [],
   "source": [
    "## since thier in null vale in only credit product column, which is categorical we will take null as\n",
    "## differnt category named as null_value\n",
    "\n",
    "## doing for training\n",
    "df2[\"Credit_Product\"]=np.where(df2[\"Credit_Product\"].isna(),\"null_val\",df2[\"Credit_Product\"])\n",
    "\n",
    "## doing for test\n",
    "tdf2[\"Credit_Product\"]=np.where(tdf2[\"Credit_Product\"].isna(),\"null_val\",tdf2[\"Credit_Product\"])"
   ]
  },
  {
   "cell_type": "code",
   "execution_count": 26,
   "id": "1607134d",
   "metadata": {},
   "outputs": [
    {
     "data": {
      "text/plain": [
       "No          144357\n",
       "Yes          72043\n",
       "null_val     29325\n",
       "Name: Credit_Product, dtype: int64"
      ]
     },
     "execution_count": 26,
     "metadata": {},
     "output_type": "execute_result"
    }
   ],
   "source": [
    "df2[\"Credit_Product\"].value_counts()"
   ]
  },
  {
   "cell_type": "code",
   "execution_count": 27,
   "id": "b04dbaf7",
   "metadata": {},
   "outputs": [
    {
     "name": "stdout",
     "output_type": "stream",
     "text": [
      "0\n",
      "0\n"
     ]
    }
   ],
   "source": [
    "print(df2.isnull().sum().sum())\n",
    "print(tdf2.isnull().sum().sum())\n",
    "## no null value left"
   ]
  },
  {
   "cell_type": "code",
   "execution_count": 28,
   "id": "f9c585c3",
   "metadata": {},
   "outputs": [
    {
     "data": {
      "text/html": [
       "<div>\n",
       "<style scoped>\n",
       "    .dataframe tbody tr th:only-of-type {\n",
       "        vertical-align: middle;\n",
       "    }\n",
       "\n",
       "    .dataframe tbody tr th {\n",
       "        vertical-align: top;\n",
       "    }\n",
       "\n",
       "    .dataframe thead th {\n",
       "        text-align: right;\n",
       "    }\n",
       "</style>\n",
       "<table border=\"1\" class=\"dataframe\">\n",
       "  <thead>\n",
       "    <tr style=\"text-align: right;\">\n",
       "      <th></th>\n",
       "      <th>Age</th>\n",
       "      <th>Vintage</th>\n",
       "      <th>Avg_Account_Balance</th>\n",
       "    </tr>\n",
       "  </thead>\n",
       "  <tbody>\n",
       "    <tr>\n",
       "      <th>count</th>\n",
       "      <td>245725.000000</td>\n",
       "      <td>245725.000000</td>\n",
       "      <td>2.457250e+05</td>\n",
       "    </tr>\n",
       "    <tr>\n",
       "      <th>mean</th>\n",
       "      <td>43.856307</td>\n",
       "      <td>46.959141</td>\n",
       "      <td>1.128403e+06</td>\n",
       "    </tr>\n",
       "    <tr>\n",
       "      <th>std</th>\n",
       "      <td>14.828672</td>\n",
       "      <td>32.353136</td>\n",
       "      <td>8.529364e+05</td>\n",
       "    </tr>\n",
       "    <tr>\n",
       "      <th>min</th>\n",
       "      <td>23.000000</td>\n",
       "      <td>7.000000</td>\n",
       "      <td>2.079000e+04</td>\n",
       "    </tr>\n",
       "    <tr>\n",
       "      <th>25%</th>\n",
       "      <td>30.000000</td>\n",
       "      <td>20.000000</td>\n",
       "      <td>6.043100e+05</td>\n",
       "    </tr>\n",
       "    <tr>\n",
       "      <th>50%</th>\n",
       "      <td>43.000000</td>\n",
       "      <td>32.000000</td>\n",
       "      <td>8.946010e+05</td>\n",
       "    </tr>\n",
       "    <tr>\n",
       "      <th>75%</th>\n",
       "      <td>54.000000</td>\n",
       "      <td>73.000000</td>\n",
       "      <td>1.366666e+06</td>\n",
       "    </tr>\n",
       "    <tr>\n",
       "      <th>max</th>\n",
       "      <td>85.000000</td>\n",
       "      <td>135.000000</td>\n",
       "      <td>1.035201e+07</td>\n",
       "    </tr>\n",
       "  </tbody>\n",
       "</table>\n",
       "</div>"
      ],
      "text/plain": [
       "                 Age        Vintage  Avg_Account_Balance\n",
       "count  245725.000000  245725.000000         2.457250e+05\n",
       "mean       43.856307      46.959141         1.128403e+06\n",
       "std        14.828672      32.353136         8.529364e+05\n",
       "min        23.000000       7.000000         2.079000e+04\n",
       "25%        30.000000      20.000000         6.043100e+05\n",
       "50%        43.000000      32.000000         8.946010e+05\n",
       "75%        54.000000      73.000000         1.366666e+06\n",
       "max        85.000000     135.000000         1.035201e+07"
      ]
     },
     "execution_count": 28,
     "metadata": {},
     "output_type": "execute_result"
    }
   ],
   "source": [
    "## descritption of continuous variables\n",
    "df2[cont_var].describe()"
   ]
  },
  {
   "cell_type": "markdown",
   "id": "31ce6edd",
   "metadata": {},
   "source": [
    "## Exploratory Data Analysis (EDA)"
   ]
  },
  {
   "cell_type": "markdown",
   "id": "382ad9be",
   "metadata": {},
   "source": [
    "### Numeric vs. Target EDA"
   ]
  },
  {
   "cell_type": "code",
   "execution_count": 29,
   "id": "30827181",
   "metadata": {},
   "outputs": [
    {
     "data": {
      "text/plain": [
       "['Age', 'Vintage', 'Avg_Account_Balance']"
      ]
     },
     "execution_count": 29,
     "metadata": {},
     "output_type": "execute_result"
    }
   ],
   "source": [
    "cont_var"
   ]
  },
  {
   "cell_type": "markdown",
   "id": "1e60dc97",
   "metadata": {},
   "source": [
    "### Age vs Target"
   ]
  },
  {
   "cell_type": "code",
   "execution_count": 30,
   "id": "35de52a2",
   "metadata": {},
   "outputs": [
    {
     "data": {
      "image/png": "[encoded data removed]",
      "text/plain": [
       "<Figure size 432x288 with 1 Axes>"
      ]
     },
     "metadata": {
      "needs_background": "light"
     },
     "output_type": "display_data"
    }
   ],
   "source": [
    "fig, ax = plt.subplots()\n",
    "\n",
    "ax.hist(df2[df2[\"Is_Lead\"]==1][\"Age\"], bins=15, alpha=0.5, color=\"blue\", label=\"accept\")\n",
    "ax.hist(df2[df2[\"Is_Lead\"]==0][\"Age\"], bins=15, alpha=0.5, color=\"green\", label=\"reject\")\n",
    "\n",
    "ax.set_xlabel(\"Age\")\n",
    "ax.set_ylabel(\"Count of customers\")\n",
    "\n",
    "fig.suptitle(\"Age vs. Is_Lead\")\n",
    "\n",
    "ax.legend();"
   ]
  },
  {
   "cell_type": "code",
   "execution_count": 31,
   "id": "778fd500",
   "metadata": {},
   "outputs": [
    {
     "data": {
      "image/png": "[encoded data removed]",
      "text/plain": [
       "<Figure size 432x288 with 1 Axes>"
      ]
     },
     "metadata": {
      "needs_background": "light"
     },
     "output_type": "display_data"
    }
   ],
   "source": [
    "fig, ax = plt.subplots()\n",
    "\n",
    "sns.kdeplot(df2[df2[\"Is_Lead\"]==1][\"Age\"], shade=True, color=\"blue\", label=\"accept\", ax=ax)\n",
    "sns.kdeplot(df2[df2[\"Is_Lead\"]==0][\"Age\"], shade=True, color=\"green\", label=\"reject\", ax=ax)\n",
    "\n",
    "ax.set_xlabel(\"Age\")\n",
    "ax.set_ylabel(\"Density\")\n",
    "\n",
    "fig.suptitle(\"Age vs. Is_Lead\");\n"
   ]
  },
  {
   "cell_type": "code",
   "execution_count": 32,
   "id": "834f0276",
   "metadata": {},
   "outputs": [
    {
     "data": {
      "image/png": "[encoded data removed]",
      "text/plain": [
       "<Figure size 432x288 with 1 Axes>"
      ]
     },
     "metadata": {
      "needs_background": "light"
     },
     "output_type": "display_data"
    }
   ],
   "source": [
    "fig, ax = plt.subplots()\n",
    "\n",
    "sns.boxplot(x=\"Age\", y=\"Is_Lead\", data=df2, orient=\"h\", palette={1:\"blue\", 0:\"green\"}, ax=ax)\n",
    "\n",
    "ax.get_yaxis().set_visible(False)\n",
    "\n",
    "fig.suptitle(\"Age vs. Is_Lead\")\n",
    "\n",
    "color_patches = [\n",
    "    Patch(facecolor=\"blue\", label=\"accept\"),\n",
    "    Patch(facecolor=\"green\", label=\"reject\")\n",
    "]\n",
    "ax.legend(handles=color_patches);"
   ]
  },
  {
   "cell_type": "markdown",
   "id": "21285396",
   "metadata": {},
   "source": [
    "### Vintage vs Target"
   ]
  },
  {
   "cell_type": "code",
   "execution_count": 33,
   "id": "59870898",
   "metadata": {},
   "outputs": [
    {
     "data": {
      "image/png": "[encoded data removed]",
      "text/plain": [
       "<Figure size 432x288 with 1 Axes>"
      ]
     },
     "metadata": {
      "needs_background": "light"
     },
     "output_type": "display_data"
    }
   ],
   "source": [
    "fig, ax = plt.subplots()\n",
    "\n",
    "ax.hist(df2[df2[\"Is_Lead\"]==1][\"Vintage\"], bins=15, alpha=0.5, color=\"blue\", label=\"accept\")\n",
    "ax.hist(df2[df2[\"Is_Lead\"]==0][\"Vintage\"], bins=15, alpha=0.5, color=\"green\", label=\"reject\")\n",
    "\n",
    "ax.set_xlabel(\"Vintage\")\n",
    "ax.set_ylabel(\"Count of customers\")\n",
    "\n",
    "fig.suptitle(\"Vintage vs. Is_Lead\")\n",
    "\n",
    "ax.legend();"
   ]
  },
  {
   "cell_type": "code",
   "execution_count": 34,
   "id": "5c317202",
   "metadata": {},
   "outputs": [
    {
     "data": {
      "image/png": "[encoded data removed]",
      "text/plain": [
       "<Figure size 432x288 with 1 Axes>"
      ]
     },
     "metadata": {
      "needs_background": "light"
     },
     "output_type": "display_data"
    }
   ],
   "source": [
    "fig, ax = plt.subplots()\n",
    "\n",
    "sns.kdeplot(df2[df2[\"Is_Lead\"]==1][\"Vintage\"], shade=True, color=\"blue\", label=\"accept\", ax=ax)\n",
    "sns.kdeplot(df2[df2[\"Is_Lead\"]==0][\"Vintage\"], shade=True, color=\"green\", label=\"reject\", ax=ax)\n",
    "\n",
    "ax.set_xlabel(\"Vintage\")\n",
    "ax.set_ylabel(\"Density\")\n",
    "\n",
    "fig.suptitle(\"Vintage vs. Is_Lead\");\n"
   ]
  },
  {
   "cell_type": "code",
   "execution_count": 35,
   "id": "7ed81af6",
   "metadata": {},
   "outputs": [
    {
     "data": {
      "image/png": "[encoded data removed]",
      "text/plain": [
       "<Figure size 432x288 with 1 Axes>"
      ]
     },
     "metadata": {
      "needs_background": "light"
     },
     "output_type": "display_data"
    }
   ],
   "source": [
    "fig, ax = plt.subplots()\n",
    "\n",
    "sns.boxplot(x=\"Vintage\", y=\"Is_Lead\", data=df2, orient=\"h\", palette={1:\"blue\", 0:\"green\"}, ax=ax)\n",
    "\n",
    "ax.get_yaxis().set_visible(False)\n",
    "\n",
    "fig.suptitle(\"Vintage vs. Is_Lead\")\n",
    "\n",
    "color_patches = [\n",
    "    Patch(facecolor=\"blue\", label=\"accept\"),\n",
    "    Patch(facecolor=\"green\", label=\"reject\")\n",
    "]\n",
    "ax.legend(handles=color_patches);"
   ]
  },
  {
   "cell_type": "markdown",
   "id": "f4e29423",
   "metadata": {},
   "source": [
    "### Avg_Account_Balance vs Target"
   ]
  },
  {
   "cell_type": "code",
   "execution_count": 36,
   "id": "7ef91141",
   "metadata": {},
   "outputs": [
    {
     "data": {
      "image/png": "[encoded data removed]",
      "text/plain": [
       "<Figure size 432x288 with 1 Axes>"
      ]
     },
     "metadata": {
      "needs_background": "light"
     },
     "output_type": "display_data"
    }
   ],
   "source": [
    "fig, ax = plt.subplots()\n",
    "\n",
    "ax.hist(df2[df2[\"Is_Lead\"]==1][\"Avg_Account_Balance\"], bins=15, alpha=0.5, color=\"blue\", label=\"accept\")\n",
    "ax.hist(df2[df2[\"Is_Lead\"]==0][\"Avg_Account_Balance\"], bins=15, alpha=0.5, color=\"green\", label=\"reject\")\n",
    "\n",
    "ax.set_xlabel(\"Avg_Account_Balance\")\n",
    "ax.set_ylabel(\"Count of customers\")\n",
    "\n",
    "fig.suptitle(\"Avg_Account_Balance vs. Is_Lead\")\n",
    "\n",
    "ax.legend();"
   ]
  },
  {
   "cell_type": "code",
   "execution_count": 37,
   "id": "5c0f1d65",
   "metadata": {},
   "outputs": [
    {
     "data": {
      "image/png": "[encoded data removed]",
      "text/plain": [
       "<Figure size 432x288 with 1 Axes>"
      ]
     },
     "metadata": {
      "needs_background": "light"
     },
     "output_type": "display_data"
    }
   ],
   "source": [
    "fig, ax = plt.subplots()\n",
    "\n",
    "sns.kdeplot(df2[df2[\"Is_Lead\"]==1][\"Avg_Account_Balance\"], shade=True, color=\"blue\", label=\"accept\", ax=ax)\n",
    "sns.kdeplot(df2[df2[\"Is_Lead\"]==0][\"Avg_Account_Balance\"], shade=True, color=\"green\", label=\"reject\", ax=ax)\n",
    "\n",
    "ax.set_xlabel(\"Avg_Account_Balance\")\n",
    "ax.set_ylabel(\"Density\")\n",
    "\n",
    "fig.suptitle(\"Avg_Account_Balance vs. Is_Lead\");\n"
   ]
  },
  {
   "cell_type": "code",
   "execution_count": 38,
   "id": "b733f771",
   "metadata": {},
   "outputs": [
    {
     "data": {
      "image/png": "[encoded data removed]",
      "text/plain": [
       "<Figure size 432x288 with 1 Axes>"
      ]
     },
     "metadata": {
      "needs_background": "light"
     },
     "output_type": "display_data"
    }
   ],
   "source": [
    "fig, ax = plt.subplots()\n",
    "\n",
    "sns.boxplot(x=\"Avg_Account_Balance\", y=\"Is_Lead\", data=df2, orient=\"h\", palette={1:\"blue\", 0:\"green\"}, ax=ax)\n",
    "\n",
    "ax.get_yaxis().set_visible(False)\n",
    "\n",
    "fig.suptitle(\"Avg_Account_Balance vs. Is_Lead\")\n",
    "\n",
    "color_patches = [\n",
    "    Patch(facecolor=\"blue\", label=\"accept\"),\n",
    "    Patch(facecolor=\"green\", label=\"reject\")\n",
    "]\n",
    "ax.legend(handles=color_patches);"
   ]
  },
  {
   "cell_type": "markdown",
   "id": "057dd6bc",
   "metadata": {},
   "source": [
    "## Categorical Features vs. Target EDA"
   ]
  },
  {
   "cell_type": "code",
   "execution_count": 39,
   "id": "7d872440",
   "metadata": {},
   "outputs": [
    {
     "data": {
      "text/plain": [
       "['Gender',\n",
       " 'Region_Code',\n",
       " 'Occupation',\n",
       " 'Channel_Code',\n",
       " 'Credit_Product',\n",
       " 'Is_Active']"
      ]
     },
     "execution_count": 39,
     "metadata": {},
     "output_type": "execute_result"
    }
   ],
   "source": [
    "catg_var"
   ]
  },
  {
   "cell_type": "markdown",
   "id": "b2546481",
   "metadata": {},
   "source": [
    "### Gender"
   ]
  },
  {
   "cell_type": "code",
   "execution_count": 40,
   "id": "239c59aa",
   "metadata": {},
   "outputs": [
    {
     "name": "stderr",
     "output_type": "stream",
     "text": [
      "/Users/deepaksingla/opt/anaconda3/lib/python3.8/site-packages/seaborn/_decorators.py:36: FutureWarning: Pass the following variable as a keyword arg: x. From version 0.12, the only valid positional argument will be `data`, and passing other arguments without an explicit keyword will result in an error or misinterpretation.\n",
      "  warnings.warn(\n"
     ]
    },
    {
     "data": {
      "image/png": "[encoded data removed]",
      "text/plain": [
       "<Figure size 432x288 with 1 Axes>"
      ]
     },
     "metadata": {
      "needs_background": "light"
     },
     "output_type": "display_data"
    }
   ],
   "source": [
    "fig, ax = plt.subplots()\n",
    "sns.countplot('Gender', hue=\"Is_Lead\", data=df2, \n",
    "                palette={1:\"blue\", 0:\"green\"}, ax=ax)\n",
    "\n",
    "plt.close(2) # catplot creates an extra figure we don't need\n",
    "ax.set_xlabel(i)\n",
    "\n",
    "color_patches = [\n",
    "    Patch(facecolor=\"blue\", label=\"accept\"),\n",
    "    Patch(facecolor=\"green\", label=\"reject\")\n",
    "]\n",
    "ax.legend(handles=color_patches)\n",
    "fig.suptitle(\"Gender vs. Is_Lead\");"
   ]
  },
  {
   "cell_type": "code",
   "execution_count": 41,
   "id": "94b8e13c",
   "metadata": {},
   "outputs": [
    {
     "name": "stderr",
     "output_type": "stream",
     "text": [
      "/Users/deepaksingla/opt/anaconda3/lib/python3.8/site-packages/seaborn/_decorators.py:36: FutureWarning: Pass the following variable as a keyword arg: x. From version 0.12, the only valid positional argument will be `data`, and passing other arguments without an explicit keyword will result in an error or misinterpretation.\n",
      "  warnings.warn(\n"
     ]
    },
    {
     "data": {
      "image/png": "[encoded data removed]",
      "text/plain": [
       "<Figure size 432x288 with 1 Axes>"
      ]
     },
     "metadata": {
      "needs_background": "light"
     },
     "output_type": "display_data"
    }
   ],
   "source": [
    "#Region_Code\n",
    "fig, ax = plt.subplots()\n",
    "sns.countplot('Region_Code', hue=\"Is_Lead\", data=df2, \n",
    "                palette={1:\"blue\", 0:\"green\"}, ax=ax)\n",
    "\n",
    "plt.close(2) # catplot creates an extra figure we don't need\n",
    "ax.set_xlabel(\"Region_Code\")\n",
    "\n",
    "color_patches = [\n",
    "    Patch(facecolor=\"blue\", label=\"accept\"),\n",
    "    Patch(facecolor=\"green\", label=\"reject\")\n",
    "]\n",
    "ax.legend(handles=color_patches)\n",
    "fig.suptitle(\"Region_Code vs. Is_Lead\");"
   ]
  },
  {
   "cell_type": "code",
   "execution_count": 42,
   "id": "b2567610",
   "metadata": {},
   "outputs": [
    {
     "name": "stderr",
     "output_type": "stream",
     "text": [
      "/Users/deepaksingla/opt/anaconda3/lib/python3.8/site-packages/seaborn/_decorators.py:36: FutureWarning: Pass the following variable as a keyword arg: x. From version 0.12, the only valid positional argument will be `data`, and passing other arguments without an explicit keyword will result in an error or misinterpretation.\n",
      "  warnings.warn(\n"
     ]
    },
    {
     "data": {
      "image/png": "[encoded data removed]",
      "text/plain": [
       "<Figure size 432x288 with 1 Axes>"
      ]
     },
     "metadata": {
      "needs_background": "light"
     },
     "output_type": "display_data"
    }
   ],
   "source": [
    "#Occupation\n",
    "fig, ax = plt.subplots()\n",
    "sns.countplot('Occupation', hue=\"Is_Lead\", data=df2, \n",
    "                palette={1:\"blue\", 0:\"green\"}, ax=ax)\n",
    "\n",
    "plt.close(2) # catplot creates an extra figure we don't need\n",
    "ax.set_xlabel(\"Occupation\")\n",
    "\n",
    "color_patches = [\n",
    "    Patch(facecolor=\"blue\", label=\"accept\"),\n",
    "    Patch(facecolor=\"green\", label=\"reject\")\n",
    "]\n",
    "ax.legend(handles=color_patches)\n",
    "fig.suptitle(\"Occupation vs. Is_Lead\");"
   ]
  },
  {
   "cell_type": "code",
   "execution_count": 43,
   "id": "c5d702b0",
   "metadata": {},
   "outputs": [
    {
     "name": "stderr",
     "output_type": "stream",
     "text": [
      "/Users/deepaksingla/opt/anaconda3/lib/python3.8/site-packages/seaborn/_decorators.py:36: FutureWarning: Pass the following variable as a keyword arg: x. From version 0.12, the only valid positional argument will be `data`, and passing other arguments without an explicit keyword will result in an error or misinterpretation.\n",
      "  warnings.warn(\n"
     ]
    },
    {
     "data": {
      "image/png": "[encoded data removed]",
      "text/plain": [
       "<Figure size 432x288 with 1 Axes>"
      ]
     },
     "metadata": {
      "needs_background": "light"
     },
     "output_type": "display_data"
    }
   ],
   "source": [
    "#Channel_Code\n",
    "fig, ax = plt.subplots()\n",
    "sns.countplot('Channel_Code', hue=\"Is_Lead\", data=df2, \n",
    "                palette={1:\"blue\", 0:\"green\"}, ax=ax)\n",
    "\n",
    "plt.close(2) # catplot creates an extra figure we don't need\n",
    "ax.set_xlabel(\"Channel_Code\")\n",
    "\n",
    "color_patches = [\n",
    "    Patch(facecolor=\"blue\", label=\"accept\"),\n",
    "    Patch(facecolor=\"green\", label=\"reject\")\n",
    "]\n",
    "ax.legend(handles=color_patches)\n",
    "fig.suptitle(\"Channel_Code vs. Is_Lead\");"
   ]
  },
  {
   "cell_type": "code",
   "execution_count": 44,
   "id": "b8d142ad",
   "metadata": {},
   "outputs": [
    {
     "name": "stderr",
     "output_type": "stream",
     "text": [
      "/Users/deepaksingla/opt/anaconda3/lib/python3.8/site-packages/seaborn/_decorators.py:36: FutureWarning: Pass the following variable as a keyword arg: x. From version 0.12, the only valid positional argument will be `data`, and passing other arguments without an explicit keyword will result in an error or misinterpretation.\n",
      "  warnings.warn(\n"
     ]
    },
    {
     "data": {
      "image/png": "[encoded data removed]",
      "text/plain": [
       "<Figure size 432x288 with 1 Axes>"
      ]
     },
     "metadata": {
      "needs_background": "light"
     },
     "output_type": "display_data"
    }
   ],
   "source": [
    "#Credit_Product\n",
    "fig, ax = plt.subplots()\n",
    "sns.countplot('Credit_Product', hue=\"Is_Lead\", data=df2, \n",
    "                palette={1:\"blue\", 0:\"green\"}, ax=ax)\n",
    "\n",
    "plt.close(2) # catplot creates an extra figure we don't need\n",
    "ax.set_xlabel(\"Credit_Product\")\n",
    "\n",
    "color_patches = [\n",
    "    Patch(facecolor=\"blue\", label=\"accept\"),\n",
    "    Patch(facecolor=\"green\", label=\"reject\")\n",
    "]\n",
    "ax.legend(handles=color_patches)\n",
    "fig.suptitle(\"Credit_Product vs. Is_Lead\");"
   ]
  },
  {
   "cell_type": "code",
   "execution_count": 45,
   "id": "47779e7c",
   "metadata": {},
   "outputs": [
    {
     "name": "stderr",
     "output_type": "stream",
     "text": [
      "/Users/deepaksingla/opt/anaconda3/lib/python3.8/site-packages/seaborn/_decorators.py:36: FutureWarning: Pass the following variable as a keyword arg: x. From version 0.12, the only valid positional argument will be `data`, and passing other arguments without an explicit keyword will result in an error or misinterpretation.\n",
      "  warnings.warn(\n"
     ]
    },
    {
     "data": {
      "image/png": "[encoded data removed]",
      "text/plain": [
       "<Figure size 432x288 with 1 Axes>"
      ]
     },
     "metadata": {
      "needs_background": "light"
     },
     "output_type": "display_data"
    }
   ],
   "source": [
    "#Is_Active\n",
    "fig, ax = plt.subplots()\n",
    "sns.countplot('Is_Active', hue=\"Is_Lead\", data=df2, \n",
    "                palette={1:\"blue\", 0:\"green\"}, ax=ax)\n",
    "\n",
    "plt.close(2) # catplot creates an extra figure we don't need\n",
    "ax.set_xlabel(\"Is_Active\")\n",
    "\n",
    "color_patches = [\n",
    "    Patch(facecolor=\"blue\", label=\"accept\"),\n",
    "    Patch(facecolor=\"green\", label=\"reject\")\n",
    "]\n",
    "ax.legend(handles=color_patches)\n",
    "fig.suptitle(\"Is_Active vs. Is_Lead\");"
   ]
  },
  {
   "cell_type": "code",
   "execution_count": 46,
   "id": "c7e58f75",
   "metadata": {},
   "outputs": [
    {
     "data": {
      "text/html": [
       "<div>\n",
       "<style scoped>\n",
       "    .dataframe tbody tr th:only-of-type {\n",
       "        vertical-align: middle;\n",
       "    }\n",
       "\n",
       "    .dataframe tbody tr th {\n",
       "        vertical-align: top;\n",
       "    }\n",
       "\n",
       "    .dataframe thead th {\n",
       "        text-align: right;\n",
       "    }\n",
       "</style>\n",
       "<table border=\"1\" class=\"dataframe\">\n",
       "  <thead>\n",
       "    <tr style=\"text-align: right;\">\n",
       "      <th></th>\n",
       "      <th>Age</th>\n",
       "      <th>Vintage</th>\n",
       "      <th>Avg_Account_Balance</th>\n",
       "    </tr>\n",
       "  </thead>\n",
       "  <tbody>\n",
       "    <tr>\n",
       "      <th>Age</th>\n",
       "      <td>1.000000</td>\n",
       "      <td>0.631242</td>\n",
       "      <td>0.145232</td>\n",
       "    </tr>\n",
       "    <tr>\n",
       "      <th>Vintage</th>\n",
       "      <td>0.631242</td>\n",
       "      <td>1.000000</td>\n",
       "      <td>0.167433</td>\n",
       "    </tr>\n",
       "    <tr>\n",
       "      <th>Avg_Account_Balance</th>\n",
       "      <td>0.145232</td>\n",
       "      <td>0.167433</td>\n",
       "      <td>1.000000</td>\n",
       "    </tr>\n",
       "  </tbody>\n",
       "</table>\n",
       "</div>"
      ],
      "text/plain": [
       "                          Age   Vintage  Avg_Account_Balance\n",
       "Age                  1.000000  0.631242             0.145232\n",
       "Vintage              0.631242  1.000000             0.167433\n",
       "Avg_Account_Balance  0.145232  0.167433             1.000000"
      ]
     },
     "execution_count": 46,
     "metadata": {},
     "output_type": "execute_result"
    }
   ],
   "source": [
    "## checking correlation of continuous variables\n",
    "df2[cont_var].corr()\n",
    "## since max corelation is 0.63 so continuous variables are not much correlated"
   ]
  },
  {
   "cell_type": "markdown",
   "id": "33530275",
   "metadata": {},
   "source": [
    "## one hot encoding for categorical variables"
   ]
  },
  {
   "cell_type": "code",
   "execution_count": 47,
   "id": "18035ddb",
   "metadata": {},
   "outputs": [],
   "source": [
    "## for training\n",
    "catg_df=pd.get_dummies(df2[catg_var],prefix=catg_var)\n",
    "\n",
    "## for test\n",
    "catg_tdf=pd.get_dummies(tdf2[catg_var],prefix=catg_var)"
   ]
  },
  {
   "cell_type": "code",
   "execution_count": 48,
   "id": "0d41b2cc",
   "metadata": {},
   "outputs": [
    {
     "name": "stdout",
     "output_type": "stream",
     "text": [
      "(245725, 50)\n"
     ]
    },
    {
     "data": {
      "text/html": [
       "<div>\n",
       "<style scoped>\n",
       "    .dataframe tbody tr th:only-of-type {\n",
       "        vertical-align: middle;\n",
       "    }\n",
       "\n",
       "    .dataframe tbody tr th {\n",
       "        vertical-align: top;\n",
       "    }\n",
       "\n",
       "    .dataframe thead th {\n",
       "        text-align: right;\n",
       "    }\n",
       "</style>\n",
       "<table border=\"1\" class=\"dataframe\">\n",
       "  <thead>\n",
       "    <tr style=\"text-align: right;\">\n",
       "      <th></th>\n",
       "      <th>Gender_Female</th>\n",
       "      <th>Gender_Male</th>\n",
       "      <th>Region_Code_RG250</th>\n",
       "      <th>Region_Code_RG251</th>\n",
       "      <th>Region_Code_RG252</th>\n",
       "      <th>Region_Code_RG253</th>\n",
       "      <th>Region_Code_RG254</th>\n",
       "      <th>Region_Code_RG255</th>\n",
       "      <th>Region_Code_RG256</th>\n",
       "      <th>Region_Code_RG257</th>\n",
       "      <th>...</th>\n",
       "      <th>Occupation_Self_Employed</th>\n",
       "      <th>Channel_Code_X1</th>\n",
       "      <th>Channel_Code_X2</th>\n",
       "      <th>Channel_Code_X3</th>\n",
       "      <th>Channel_Code_X4</th>\n",
       "      <th>Credit_Product_No</th>\n",
       "      <th>Credit_Product_Yes</th>\n",
       "      <th>Credit_Product_null_val</th>\n",
       "      <th>Is_Active_No</th>\n",
       "      <th>Is_Active_Yes</th>\n",
       "    </tr>\n",
       "  </thead>\n",
       "  <tbody>\n",
       "    <tr>\n",
       "      <th>0</th>\n",
       "      <td>1</td>\n",
       "      <td>0</td>\n",
       "      <td>0</td>\n",
       "      <td>0</td>\n",
       "      <td>0</td>\n",
       "      <td>0</td>\n",
       "      <td>0</td>\n",
       "      <td>0</td>\n",
       "      <td>0</td>\n",
       "      <td>0</td>\n",
       "      <td>...</td>\n",
       "      <td>0</td>\n",
       "      <td>0</td>\n",
       "      <td>0</td>\n",
       "      <td>1</td>\n",
       "      <td>0</td>\n",
       "      <td>1</td>\n",
       "      <td>0</td>\n",
       "      <td>0</td>\n",
       "      <td>1</td>\n",
       "      <td>0</td>\n",
       "    </tr>\n",
       "    <tr>\n",
       "      <th>1</th>\n",
       "      <td>1</td>\n",
       "      <td>0</td>\n",
       "      <td>0</td>\n",
       "      <td>0</td>\n",
       "      <td>0</td>\n",
       "      <td>0</td>\n",
       "      <td>0</td>\n",
       "      <td>0</td>\n",
       "      <td>0</td>\n",
       "      <td>0</td>\n",
       "      <td>...</td>\n",
       "      <td>0</td>\n",
       "      <td>1</td>\n",
       "      <td>0</td>\n",
       "      <td>0</td>\n",
       "      <td>0</td>\n",
       "      <td>1</td>\n",
       "      <td>0</td>\n",
       "      <td>0</td>\n",
       "      <td>1</td>\n",
       "      <td>0</td>\n",
       "    </tr>\n",
       "    <tr>\n",
       "      <th>2</th>\n",
       "      <td>1</td>\n",
       "      <td>0</td>\n",
       "      <td>0</td>\n",
       "      <td>0</td>\n",
       "      <td>0</td>\n",
       "      <td>0</td>\n",
       "      <td>0</td>\n",
       "      <td>0</td>\n",
       "      <td>0</td>\n",
       "      <td>0</td>\n",
       "      <td>...</td>\n",
       "      <td>1</td>\n",
       "      <td>0</td>\n",
       "      <td>0</td>\n",
       "      <td>1</td>\n",
       "      <td>0</td>\n",
       "      <td>1</td>\n",
       "      <td>0</td>\n",
       "      <td>0</td>\n",
       "      <td>0</td>\n",
       "      <td>1</td>\n",
       "    </tr>\n",
       "    <tr>\n",
       "      <th>3</th>\n",
       "      <td>0</td>\n",
       "      <td>1</td>\n",
       "      <td>0</td>\n",
       "      <td>0</td>\n",
       "      <td>0</td>\n",
       "      <td>0</td>\n",
       "      <td>0</td>\n",
       "      <td>0</td>\n",
       "      <td>0</td>\n",
       "      <td>0</td>\n",
       "      <td>...</td>\n",
       "      <td>0</td>\n",
       "      <td>1</td>\n",
       "      <td>0</td>\n",
       "      <td>0</td>\n",
       "      <td>0</td>\n",
       "      <td>1</td>\n",
       "      <td>0</td>\n",
       "      <td>0</td>\n",
       "      <td>1</td>\n",
       "      <td>0</td>\n",
       "    </tr>\n",
       "    <tr>\n",
       "      <th>4</th>\n",
       "      <td>1</td>\n",
       "      <td>0</td>\n",
       "      <td>0</td>\n",
       "      <td>0</td>\n",
       "      <td>0</td>\n",
       "      <td>0</td>\n",
       "      <td>0</td>\n",
       "      <td>0</td>\n",
       "      <td>0</td>\n",
       "      <td>0</td>\n",
       "      <td>...</td>\n",
       "      <td>0</td>\n",
       "      <td>1</td>\n",
       "      <td>0</td>\n",
       "      <td>0</td>\n",
       "      <td>0</td>\n",
       "      <td>1</td>\n",
       "      <td>0</td>\n",
       "      <td>0</td>\n",
       "      <td>1</td>\n",
       "      <td>0</td>\n",
       "    </tr>\n",
       "  </tbody>\n",
       "</table>\n",
       "<p>5 rows × 50 columns</p>\n",
       "</div>"
      ],
      "text/plain": [
       "   Gender_Female  Gender_Male  Region_Code_RG250  Region_Code_RG251  \\\n",
       "0              1            0                  0                  0   \n",
       "1              1            0                  0                  0   \n",
       "2              1            0                  0                  0   \n",
       "3              0            1                  0                  0   \n",
       "4              1            0                  0                  0   \n",
       "\n",
       "   Region_Code_RG252  Region_Code_RG253  Region_Code_RG254  Region_Code_RG255  \\\n",
       "0                  0                  0                  0                  0   \n",
       "1                  0                  0                  0                  0   \n",
       "2                  0                  0                  0                  0   \n",
       "3                  0                  0                  0                  0   \n",
       "4                  0                  0                  0                  0   \n",
       "\n",
       "   Region_Code_RG256  Region_Code_RG257  ...  Occupation_Self_Employed  \\\n",
       "0                  0                  0  ...                         0   \n",
       "1                  0                  0  ...                         0   \n",
       "2                  0                  0  ...                         1   \n",
       "3                  0                  0  ...                         0   \n",
       "4                  0                  0  ...                         0   \n",
       "\n",
       "   Channel_Code_X1  Channel_Code_X2  Channel_Code_X3  Channel_Code_X4  \\\n",
       "0                0                0                1                0   \n",
       "1                1                0                0                0   \n",
       "2                0                0                1                0   \n",
       "3                1                0                0                0   \n",
       "4                1                0                0                0   \n",
       "\n",
       "   Credit_Product_No  Credit_Product_Yes  Credit_Product_null_val  \\\n",
       "0                  1                   0                        0   \n",
       "1                  1                   0                        0   \n",
       "2                  1                   0                        0   \n",
       "3                  1                   0                        0   \n",
       "4                  1                   0                        0   \n",
       "\n",
       "   Is_Active_No  Is_Active_Yes  \n",
       "0             1              0  \n",
       "1             1              0  \n",
       "2             0              1  \n",
       "3             1              0  \n",
       "4             1              0  \n",
       "\n",
       "[5 rows x 50 columns]"
      ]
     },
     "execution_count": 48,
     "metadata": {},
     "output_type": "execute_result"
    }
   ],
   "source": [
    "## check shape and head of training data\n",
    "print(catg_df.shape)\n",
    "catg_df.head()"
   ]
  },
  {
   "cell_type": "code",
   "execution_count": 49,
   "id": "52b059fd",
   "metadata": {},
   "outputs": [
    {
     "name": "stdout",
     "output_type": "stream",
     "text": [
      "(105312, 50)\n"
     ]
    },
    {
     "data": {
      "text/html": [
       "<div>\n",
       "<style scoped>\n",
       "    .dataframe tbody tr th:only-of-type {\n",
       "        vertical-align: middle;\n",
       "    }\n",
       "\n",
       "    .dataframe tbody tr th {\n",
       "        vertical-align: top;\n",
       "    }\n",
       "\n",
       "    .dataframe thead th {\n",
       "        text-align: right;\n",
       "    }\n",
       "</style>\n",
       "<table border=\"1\" class=\"dataframe\">\n",
       "  <thead>\n",
       "    <tr style=\"text-align: right;\">\n",
       "      <th></th>\n",
       "      <th>Gender_Female</th>\n",
       "      <th>Gender_Male</th>\n",
       "      <th>Region_Code_RG250</th>\n",
       "      <th>Region_Code_RG251</th>\n",
       "      <th>Region_Code_RG252</th>\n",
       "      <th>Region_Code_RG253</th>\n",
       "      <th>Region_Code_RG254</th>\n",
       "      <th>Region_Code_RG255</th>\n",
       "      <th>Region_Code_RG256</th>\n",
       "      <th>Region_Code_RG257</th>\n",
       "      <th>...</th>\n",
       "      <th>Occupation_Self_Employed</th>\n",
       "      <th>Channel_Code_X1</th>\n",
       "      <th>Channel_Code_X2</th>\n",
       "      <th>Channel_Code_X3</th>\n",
       "      <th>Channel_Code_X4</th>\n",
       "      <th>Credit_Product_No</th>\n",
       "      <th>Credit_Product_Yes</th>\n",
       "      <th>Credit_Product_null_val</th>\n",
       "      <th>Is_Active_No</th>\n",
       "      <th>Is_Active_Yes</th>\n",
       "    </tr>\n",
       "  </thead>\n",
       "  <tbody>\n",
       "    <tr>\n",
       "      <th>0</th>\n",
       "      <td>0</td>\n",
       "      <td>1</td>\n",
       "      <td>0</td>\n",
       "      <td>0</td>\n",
       "      <td>0</td>\n",
       "      <td>0</td>\n",
       "      <td>1</td>\n",
       "      <td>0</td>\n",
       "      <td>0</td>\n",
       "      <td>0</td>\n",
       "      <td>...</td>\n",
       "      <td>0</td>\n",
       "      <td>1</td>\n",
       "      <td>0</td>\n",
       "      <td>0</td>\n",
       "      <td>0</td>\n",
       "      <td>0</td>\n",
       "      <td>1</td>\n",
       "      <td>0</td>\n",
       "      <td>1</td>\n",
       "      <td>0</td>\n",
       "    </tr>\n",
       "    <tr>\n",
       "      <th>1</th>\n",
       "      <td>0</td>\n",
       "      <td>1</td>\n",
       "      <td>0</td>\n",
       "      <td>0</td>\n",
       "      <td>0</td>\n",
       "      <td>0</td>\n",
       "      <td>0</td>\n",
       "      <td>0</td>\n",
       "      <td>0</td>\n",
       "      <td>0</td>\n",
       "      <td>...</td>\n",
       "      <td>0</td>\n",
       "      <td>0</td>\n",
       "      <td>1</td>\n",
       "      <td>0</td>\n",
       "      <td>0</td>\n",
       "      <td>0</td>\n",
       "      <td>0</td>\n",
       "      <td>1</td>\n",
       "      <td>1</td>\n",
       "      <td>0</td>\n",
       "    </tr>\n",
       "    <tr>\n",
       "      <th>2</th>\n",
       "      <td>0</td>\n",
       "      <td>1</td>\n",
       "      <td>0</td>\n",
       "      <td>0</td>\n",
       "      <td>0</td>\n",
       "      <td>0</td>\n",
       "      <td>0</td>\n",
       "      <td>0</td>\n",
       "      <td>0</td>\n",
       "      <td>0</td>\n",
       "      <td>...</td>\n",
       "      <td>0</td>\n",
       "      <td>1</td>\n",
       "      <td>0</td>\n",
       "      <td>0</td>\n",
       "      <td>0</td>\n",
       "      <td>1</td>\n",
       "      <td>0</td>\n",
       "      <td>0</td>\n",
       "      <td>1</td>\n",
       "      <td>0</td>\n",
       "    </tr>\n",
       "    <tr>\n",
       "      <th>3</th>\n",
       "      <td>0</td>\n",
       "      <td>1</td>\n",
       "      <td>0</td>\n",
       "      <td>0</td>\n",
       "      <td>0</td>\n",
       "      <td>0</td>\n",
       "      <td>0</td>\n",
       "      <td>0</td>\n",
       "      <td>0</td>\n",
       "      <td>0</td>\n",
       "      <td>...</td>\n",
       "      <td>0</td>\n",
       "      <td>1</td>\n",
       "      <td>0</td>\n",
       "      <td>0</td>\n",
       "      <td>0</td>\n",
       "      <td>1</td>\n",
       "      <td>0</td>\n",
       "      <td>0</td>\n",
       "      <td>1</td>\n",
       "      <td>0</td>\n",
       "    </tr>\n",
       "    <tr>\n",
       "      <th>4</th>\n",
       "      <td>1</td>\n",
       "      <td>0</td>\n",
       "      <td>0</td>\n",
       "      <td>0</td>\n",
       "      <td>0</td>\n",
       "      <td>0</td>\n",
       "      <td>0</td>\n",
       "      <td>0</td>\n",
       "      <td>0</td>\n",
       "      <td>0</td>\n",
       "      <td>...</td>\n",
       "      <td>0</td>\n",
       "      <td>1</td>\n",
       "      <td>0</td>\n",
       "      <td>0</td>\n",
       "      <td>0</td>\n",
       "      <td>1</td>\n",
       "      <td>0</td>\n",
       "      <td>0</td>\n",
       "      <td>1</td>\n",
       "      <td>0</td>\n",
       "    </tr>\n",
       "  </tbody>\n",
       "</table>\n",
       "<p>5 rows × 50 columns</p>\n",
       "</div>"
      ],
      "text/plain": [
       "   Gender_Female  Gender_Male  Region_Code_RG250  Region_Code_RG251  \\\n",
       "0              0            1                  0                  0   \n",
       "1              0            1                  0                  0   \n",
       "2              0            1                  0                  0   \n",
       "3              0            1                  0                  0   \n",
       "4              1            0                  0                  0   \n",
       "\n",
       "   Region_Code_RG252  Region_Code_RG253  Region_Code_RG254  Region_Code_RG255  \\\n",
       "0                  0                  0                  1                  0   \n",
       "1                  0                  0                  0                  0   \n",
       "2                  0                  0                  0                  0   \n",
       "3                  0                  0                  0                  0   \n",
       "4                  0                  0                  0                  0   \n",
       "\n",
       "   Region_Code_RG256  Region_Code_RG257  ...  Occupation_Self_Employed  \\\n",
       "0                  0                  0  ...                         0   \n",
       "1                  0                  0  ...                         0   \n",
       "2                  0                  0  ...                         0   \n",
       "3                  0                  0  ...                         0   \n",
       "4                  0                  0  ...                         0   \n",
       "\n",
       "   Channel_Code_X1  Channel_Code_X2  Channel_Code_X3  Channel_Code_X4  \\\n",
       "0                1                0                0                0   \n",
       "1                0                1                0                0   \n",
       "2                1                0                0                0   \n",
       "3                1                0                0                0   \n",
       "4                1                0                0                0   \n",
       "\n",
       "   Credit_Product_No  Credit_Product_Yes  Credit_Product_null_val  \\\n",
       "0                  0                   1                        0   \n",
       "1                  0                   0                        1   \n",
       "2                  1                   0                        0   \n",
       "3                  1                   0                        0   \n",
       "4                  1                   0                        0   \n",
       "\n",
       "   Is_Active_No  Is_Active_Yes  \n",
       "0             1              0  \n",
       "1             1              0  \n",
       "2             1              0  \n",
       "3             1              0  \n",
       "4             1              0  \n",
       "\n",
       "[5 rows x 50 columns]"
      ]
     },
     "execution_count": 49,
     "metadata": {},
     "output_type": "execute_result"
    }
   ],
   "source": [
    "## check shape and head of test data\n",
    "print(catg_tdf.shape)\n",
    "catg_tdf.head()"
   ]
  },
  {
   "cell_type": "code",
   "execution_count": 50,
   "id": "b6270020",
   "metadata": {},
   "outputs": [],
   "source": [
    "## creating traing data frame after one hot encoding\n",
    "df3=pd.concat([df2[cust_id], df2[target_var],df2[cont_var],catg_df], axis=1)"
   ]
  },
  {
   "cell_type": "code",
   "execution_count": 51,
   "id": "26f9339a",
   "metadata": {},
   "outputs": [],
   "source": [
    "## creating test data frame after one hot encoding\n",
    "tdf3=pd.concat([tdf2[cust_id],tdf2[cont_var],catg_tdf], axis=1)"
   ]
  },
  {
   "cell_type": "code",
   "execution_count": 52,
   "id": "d1a5ffd7",
   "metadata": {},
   "outputs": [
    {
     "name": "stdout",
     "output_type": "stream",
     "text": [
      "(245725, 55)\n"
     ]
    },
    {
     "data": {
      "text/html": [
       "<div>\n",
       "<style scoped>\n",
       "    .dataframe tbody tr th:only-of-type {\n",
       "        vertical-align: middle;\n",
       "    }\n",
       "\n",
       "    .dataframe tbody tr th {\n",
       "        vertical-align: top;\n",
       "    }\n",
       "\n",
       "    .dataframe thead th {\n",
       "        text-align: right;\n",
       "    }\n",
       "</style>\n",
       "<table border=\"1\" class=\"dataframe\">\n",
       "  <thead>\n",
       "    <tr style=\"text-align: right;\">\n",
       "      <th></th>\n",
       "      <th>ID</th>\n",
       "      <th>Is_Lead</th>\n",
       "      <th>Age</th>\n",
       "      <th>Vintage</th>\n",
       "      <th>Avg_Account_Balance</th>\n",
       "      <th>Gender_Female</th>\n",
       "      <th>Gender_Male</th>\n",
       "      <th>Region_Code_RG250</th>\n",
       "      <th>Region_Code_RG251</th>\n",
       "      <th>Region_Code_RG252</th>\n",
       "      <th>...</th>\n",
       "      <th>Occupation_Self_Employed</th>\n",
       "      <th>Channel_Code_X1</th>\n",
       "      <th>Channel_Code_X2</th>\n",
       "      <th>Channel_Code_X3</th>\n",
       "      <th>Channel_Code_X4</th>\n",
       "      <th>Credit_Product_No</th>\n",
       "      <th>Credit_Product_Yes</th>\n",
       "      <th>Credit_Product_null_val</th>\n",
       "      <th>Is_Active_No</th>\n",
       "      <th>Is_Active_Yes</th>\n",
       "    </tr>\n",
       "  </thead>\n",
       "  <tbody>\n",
       "    <tr>\n",
       "      <th>0</th>\n",
       "      <td>NNVBBKZB</td>\n",
       "      <td>0</td>\n",
       "      <td>73</td>\n",
       "      <td>43</td>\n",
       "      <td>1045696</td>\n",
       "      <td>1</td>\n",
       "      <td>0</td>\n",
       "      <td>0</td>\n",
       "      <td>0</td>\n",
       "      <td>0</td>\n",
       "      <td>...</td>\n",
       "      <td>0</td>\n",
       "      <td>0</td>\n",
       "      <td>0</td>\n",
       "      <td>1</td>\n",
       "      <td>0</td>\n",
       "      <td>1</td>\n",
       "      <td>0</td>\n",
       "      <td>0</td>\n",
       "      <td>1</td>\n",
       "      <td>0</td>\n",
       "    </tr>\n",
       "    <tr>\n",
       "      <th>1</th>\n",
       "      <td>IDD62UNG</td>\n",
       "      <td>0</td>\n",
       "      <td>30</td>\n",
       "      <td>32</td>\n",
       "      <td>581988</td>\n",
       "      <td>1</td>\n",
       "      <td>0</td>\n",
       "      <td>0</td>\n",
       "      <td>0</td>\n",
       "      <td>0</td>\n",
       "      <td>...</td>\n",
       "      <td>0</td>\n",
       "      <td>1</td>\n",
       "      <td>0</td>\n",
       "      <td>0</td>\n",
       "      <td>0</td>\n",
       "      <td>1</td>\n",
       "      <td>0</td>\n",
       "      <td>0</td>\n",
       "      <td>1</td>\n",
       "      <td>0</td>\n",
       "    </tr>\n",
       "    <tr>\n",
       "      <th>2</th>\n",
       "      <td>HD3DSEMC</td>\n",
       "      <td>0</td>\n",
       "      <td>56</td>\n",
       "      <td>26</td>\n",
       "      <td>1484315</td>\n",
       "      <td>1</td>\n",
       "      <td>0</td>\n",
       "      <td>0</td>\n",
       "      <td>0</td>\n",
       "      <td>0</td>\n",
       "      <td>...</td>\n",
       "      <td>1</td>\n",
       "      <td>0</td>\n",
       "      <td>0</td>\n",
       "      <td>1</td>\n",
       "      <td>0</td>\n",
       "      <td>1</td>\n",
       "      <td>0</td>\n",
       "      <td>0</td>\n",
       "      <td>0</td>\n",
       "      <td>1</td>\n",
       "    </tr>\n",
       "    <tr>\n",
       "      <th>3</th>\n",
       "      <td>BF3NC7KV</td>\n",
       "      <td>0</td>\n",
       "      <td>34</td>\n",
       "      <td>19</td>\n",
       "      <td>470454</td>\n",
       "      <td>0</td>\n",
       "      <td>1</td>\n",
       "      <td>0</td>\n",
       "      <td>0</td>\n",
       "      <td>0</td>\n",
       "      <td>...</td>\n",
       "      <td>0</td>\n",
       "      <td>1</td>\n",
       "      <td>0</td>\n",
       "      <td>0</td>\n",
       "      <td>0</td>\n",
       "      <td>1</td>\n",
       "      <td>0</td>\n",
       "      <td>0</td>\n",
       "      <td>1</td>\n",
       "      <td>0</td>\n",
       "    </tr>\n",
       "    <tr>\n",
       "      <th>4</th>\n",
       "      <td>TEASRWXV</td>\n",
       "      <td>0</td>\n",
       "      <td>30</td>\n",
       "      <td>33</td>\n",
       "      <td>886787</td>\n",
       "      <td>1</td>\n",
       "      <td>0</td>\n",
       "      <td>0</td>\n",
       "      <td>0</td>\n",
       "      <td>0</td>\n",
       "      <td>...</td>\n",
       "      <td>0</td>\n",
       "      <td>1</td>\n",
       "      <td>0</td>\n",
       "      <td>0</td>\n",
       "      <td>0</td>\n",
       "      <td>1</td>\n",
       "      <td>0</td>\n",
       "      <td>0</td>\n",
       "      <td>1</td>\n",
       "      <td>0</td>\n",
       "    </tr>\n",
       "  </tbody>\n",
       "</table>\n",
       "<p>5 rows × 55 columns</p>\n",
       "</div>"
      ],
      "text/plain": [
       "         ID  Is_Lead  Age  Vintage  Avg_Account_Balance  Gender_Female  \\\n",
       "0  NNVBBKZB        0   73       43              1045696              1   \n",
       "1  IDD62UNG        0   30       32               581988              1   \n",
       "2  HD3DSEMC        0   56       26              1484315              1   \n",
       "3  BF3NC7KV        0   34       19               470454              0   \n",
       "4  TEASRWXV        0   30       33               886787              1   \n",
       "\n",
       "   Gender_Male  Region_Code_RG250  Region_Code_RG251  Region_Code_RG252  ...  \\\n",
       "0            0                  0                  0                  0  ...   \n",
       "1            0                  0                  0                  0  ...   \n",
       "2            0                  0                  0                  0  ...   \n",
       "3            1                  0                  0                  0  ...   \n",
       "4            0                  0                  0                  0  ...   \n",
       "\n",
       "   Occupation_Self_Employed  Channel_Code_X1  Channel_Code_X2  \\\n",
       "0                         0                0                0   \n",
       "1                         0                1                0   \n",
       "2                         1                0                0   \n",
       "3                         0                1                0   \n",
       "4                         0                1                0   \n",
       "\n",
       "   Channel_Code_X3  Channel_Code_X4  Credit_Product_No  Credit_Product_Yes  \\\n",
       "0                1                0                  1                   0   \n",
       "1                0                0                  1                   0   \n",
       "2                1                0                  1                   0   \n",
       "3                0                0                  1                   0   \n",
       "4                0                0                  1                   0   \n",
       "\n",
       "   Credit_Product_null_val  Is_Active_No  Is_Active_Yes  \n",
       "0                        0             1              0  \n",
       "1                        0             1              0  \n",
       "2                        0             0              1  \n",
       "3                        0             1              0  \n",
       "4                        0             1              0  \n",
       "\n",
       "[5 rows x 55 columns]"
      ]
     },
     "execution_count": 52,
     "metadata": {},
     "output_type": "execute_result"
    }
   ],
   "source": [
    "print(df3.shape)\n",
    "df3.head()"
   ]
  },
  {
   "cell_type": "markdown",
   "id": "e19b75f0",
   "metadata": {},
   "source": [
    "## checking correlation"
   ]
  },
  {
   "cell_type": "code",
   "execution_count": 53,
   "id": "3088eb6b",
   "metadata": {},
   "outputs": [
    {
     "name": "stdout",
     "output_type": "stream",
     "text": [
      "(53, 53)\n"
     ]
    },
    {
     "data": {
      "text/html": [
       "<div>\n",
       "<style scoped>\n",
       "    .dataframe tbody tr th:only-of-type {\n",
       "        vertical-align: middle;\n",
       "    }\n",
       "\n",
       "    .dataframe tbody tr th {\n",
       "        vertical-align: top;\n",
       "    }\n",
       "\n",
       "    .dataframe thead th {\n",
       "        text-align: right;\n",
       "    }\n",
       "</style>\n",
       "<table border=\"1\" class=\"dataframe\">\n",
       "  <thead>\n",
       "    <tr style=\"text-align: right;\">\n",
       "      <th></th>\n",
       "      <th>Age</th>\n",
       "      <th>Vintage</th>\n",
       "      <th>Avg_Account_Balance</th>\n",
       "      <th>Gender_Female</th>\n",
       "      <th>Gender_Male</th>\n",
       "      <th>Region_Code_RG250</th>\n",
       "      <th>Region_Code_RG251</th>\n",
       "      <th>Region_Code_RG252</th>\n",
       "      <th>Region_Code_RG253</th>\n",
       "      <th>Region_Code_RG254</th>\n",
       "      <th>...</th>\n",
       "      <th>Occupation_Self_Employed</th>\n",
       "      <th>Channel_Code_X1</th>\n",
       "      <th>Channel_Code_X2</th>\n",
       "      <th>Channel_Code_X3</th>\n",
       "      <th>Channel_Code_X4</th>\n",
       "      <th>Credit_Product_No</th>\n",
       "      <th>Credit_Product_Yes</th>\n",
       "      <th>Credit_Product_null_val</th>\n",
       "      <th>Is_Active_No</th>\n",
       "      <th>Is_Active_Yes</th>\n",
       "    </tr>\n",
       "  </thead>\n",
       "  <tbody>\n",
       "    <tr>\n",
       "      <th>Age</th>\n",
       "      <td>1.000000</td>\n",
       "      <td>0.631242</td>\n",
       "      <td>0.145232</td>\n",
       "      <td>-0.152076</td>\n",
       "      <td>0.152076</td>\n",
       "      <td>-0.040516</td>\n",
       "      <td>-0.001587</td>\n",
       "      <td>-0.073380</td>\n",
       "      <td>0.015840</td>\n",
       "      <td>-0.004748</td>\n",
       "      <td>...</td>\n",
       "      <td>0.152652</td>\n",
       "      <td>-0.664600</td>\n",
       "      <td>0.273153</td>\n",
       "      <td>0.456338</td>\n",
       "      <td>0.009252</td>\n",
       "      <td>-0.246636</td>\n",
       "      <td>0.129865</td>\n",
       "      <td>0.192168</td>\n",
       "      <td>-0.218770</td>\n",
       "      <td>0.218770</td>\n",
       "    </tr>\n",
       "    <tr>\n",
       "      <th>Vintage</th>\n",
       "      <td>0.631242</td>\n",
       "      <td>1.000000</td>\n",
       "      <td>0.167433</td>\n",
       "      <td>-0.146380</td>\n",
       "      <td>0.146380</td>\n",
       "      <td>-0.037195</td>\n",
       "      <td>-0.025112</td>\n",
       "      <td>-0.059256</td>\n",
       "      <td>0.004940</td>\n",
       "      <td>0.002861</td>\n",
       "      <td>...</td>\n",
       "      <td>0.221024</td>\n",
       "      <td>-0.571828</td>\n",
       "      <td>0.144931</td>\n",
       "      <td>0.538829</td>\n",
       "      <td>-0.162419</td>\n",
       "      <td>-0.235752</td>\n",
       "      <td>0.095078</td>\n",
       "      <td>0.224488</td>\n",
       "      <td>-0.209356</td>\n",
       "      <td>0.209356</td>\n",
       "    </tr>\n",
       "    <tr>\n",
       "      <th>Avg_Account_Balance</th>\n",
       "      <td>0.145232</td>\n",
       "      <td>0.167433</td>\n",
       "      <td>1.000000</td>\n",
       "      <td>-0.022477</td>\n",
       "      <td>0.022477</td>\n",
       "      <td>-0.046633</td>\n",
       "      <td>-0.071424</td>\n",
       "      <td>-0.077110</td>\n",
       "      <td>0.025159</td>\n",
       "      <td>0.114539</td>\n",
       "      <td>...</td>\n",
       "      <td>0.003467</td>\n",
       "      <td>-0.098179</td>\n",
       "      <td>0.010163</td>\n",
       "      <td>0.106906</td>\n",
       "      <td>-0.027096</td>\n",
       "      <td>-0.070495</td>\n",
       "      <td>0.046030</td>\n",
       "      <td>0.042413</td>\n",
       "      <td>-0.076637</td>\n",
       "      <td>0.076637</td>\n",
       "    </tr>\n",
       "    <tr>\n",
       "      <th>Gender_Female</th>\n",
       "      <td>-0.152076</td>\n",
       "      <td>-0.146380</td>\n",
       "      <td>-0.022477</td>\n",
       "      <td>1.000000</td>\n",
       "      <td>-1.000000</td>\n",
       "      <td>0.007592</td>\n",
       "      <td>-0.009920</td>\n",
       "      <td>0.012969</td>\n",
       "      <td>-0.011445</td>\n",
       "      <td>-0.019024</td>\n",
       "      <td>...</td>\n",
       "      <td>-0.085863</td>\n",
       "      <td>0.184372</td>\n",
       "      <td>-0.116018</td>\n",
       "      <td>-0.080782</td>\n",
       "      <td>-0.019916</td>\n",
       "      <td>0.077313</td>\n",
       "      <td>-0.042976</td>\n",
       "      <td>-0.057055</td>\n",
       "      <td>0.064207</td>\n",
       "      <td>-0.064207</td>\n",
       "    </tr>\n",
       "    <tr>\n",
       "      <th>Gender_Male</th>\n",
       "      <td>0.152076</td>\n",
       "      <td>0.146380</td>\n",
       "      <td>0.022477</td>\n",
       "      <td>-1.000000</td>\n",
       "      <td>1.000000</td>\n",
       "      <td>-0.007592</td>\n",
       "      <td>0.009920</td>\n",
       "      <td>-0.012969</td>\n",
       "      <td>0.011445</td>\n",
       "      <td>0.019024</td>\n",
       "      <td>...</td>\n",
       "      <td>0.085863</td>\n",
       "      <td>-0.184372</td>\n",
       "      <td>0.116018</td>\n",
       "      <td>0.080782</td>\n",
       "      <td>0.019916</td>\n",
       "      <td>-0.077313</td>\n",
       "      <td>0.042976</td>\n",
       "      <td>0.057055</td>\n",
       "      <td>-0.064207</td>\n",
       "      <td>0.064207</td>\n",
       "    </tr>\n",
       "  </tbody>\n",
       "</table>\n",
       "<p>5 rows × 53 columns</p>\n",
       "</div>"
      ],
      "text/plain": [
       "                          Age   Vintage  Avg_Account_Balance  Gender_Female  \\\n",
       "Age                  1.000000  0.631242             0.145232      -0.152076   \n",
       "Vintage              0.631242  1.000000             0.167433      -0.146380   \n",
       "Avg_Account_Balance  0.145232  0.167433             1.000000      -0.022477   \n",
       "Gender_Female       -0.152076 -0.146380            -0.022477       1.000000   \n",
       "Gender_Male          0.152076  0.146380             0.022477      -1.000000   \n",
       "\n",
       "                     Gender_Male  Region_Code_RG250  Region_Code_RG251  \\\n",
       "Age                     0.152076          -0.040516          -0.001587   \n",
       "Vintage                 0.146380          -0.037195          -0.025112   \n",
       "Avg_Account_Balance     0.022477          -0.046633          -0.071424   \n",
       "Gender_Female          -1.000000           0.007592          -0.009920   \n",
       "Gender_Male             1.000000          -0.007592           0.009920   \n",
       "\n",
       "                     Region_Code_RG252  Region_Code_RG253  Region_Code_RG254  \\\n",
       "Age                          -0.073380           0.015840          -0.004748   \n",
       "Vintage                      -0.059256           0.004940           0.002861   \n",
       "Avg_Account_Balance          -0.077110           0.025159           0.114539   \n",
       "Gender_Female                 0.012969          -0.011445          -0.019024   \n",
       "Gender_Male                  -0.012969           0.011445           0.019024   \n",
       "\n",
       "                     ...  Occupation_Self_Employed  Channel_Code_X1  \\\n",
       "Age                  ...                  0.152652        -0.664600   \n",
       "Vintage              ...                  0.221024        -0.571828   \n",
       "Avg_Account_Balance  ...                  0.003467        -0.098179   \n",
       "Gender_Female        ...                 -0.085863         0.184372   \n",
       "Gender_Male          ...                  0.085863        -0.184372   \n",
       "\n",
       "                     Channel_Code_X2  Channel_Code_X3  Channel_Code_X4  \\\n",
       "Age                         0.273153         0.456338         0.009252   \n",
       "Vintage                     0.144931         0.538829        -0.162419   \n",
       "Avg_Account_Balance         0.010163         0.106906        -0.027096   \n",
       "Gender_Female              -0.116018        -0.080782        -0.019916   \n",
       "Gender_Male                 0.116018         0.080782         0.019916   \n",
       "\n",
       "                     Credit_Product_No  Credit_Product_Yes  \\\n",
       "Age                          -0.246636            0.129865   \n",
       "Vintage                      -0.235752            0.095078   \n",
       "Avg_Account_Balance          -0.070495            0.046030   \n",
       "Gender_Female                 0.077313           -0.042976   \n",
       "Gender_Male                  -0.077313            0.042976   \n",
       "\n",
       "                     Credit_Product_null_val  Is_Active_No  Is_Active_Yes  \n",
       "Age                                 0.192168     -0.218770       0.218770  \n",
       "Vintage                             0.224488     -0.209356       0.209356  \n",
       "Avg_Account_Balance                 0.042413     -0.076637       0.076637  \n",
       "Gender_Female                      -0.057055      0.064207      -0.064207  \n",
       "Gender_Male                         0.057055     -0.064207       0.064207  \n",
       "\n",
       "[5 rows x 53 columns]"
      ]
     },
     "execution_count": 53,
     "metadata": {},
     "output_type": "execute_result"
    }
   ],
   "source": [
    "corr_df=pd.DataFrame(df3.drop([\"ID\",\"Is_Lead\"],axis=1).corr())\n",
    "print(corr_df.shape)\n",
    "corr_df.head()"
   ]
  },
  {
   "cell_type": "code",
   "execution_count": 54,
   "id": "21f2bc07",
   "metadata": {},
   "outputs": [
    {
     "name": "stdout",
     "output_type": "stream",
     "text": [
      "Age Vintage 0.6312424108308908\n",
      "Vintage Age 0.6312424108308908\n",
      "Vintage Channel_Code_X3 0.5388285624589456\n",
      "Occupation_Salaried Channel_Code_X1 0.5907471364404442\n",
      "Channel_Code_X1 Occupation_Salaried 0.5907471364404442\n",
      "Channel_Code_X3 Vintage 0.5388285624589456\n"
     ]
    }
   ],
   "source": [
    "## cehcking corr for train\n",
    "corr=df3.drop([\"ID\",\"Is_Lead\"],axis=1).corr()\n",
    "columns=np.full((corr.shape[0],),True, dtype=bool)\n",
    "for i in range(len(corr)):\n",
    "    for j in range(len(corr)):\n",
    "        if corr.iloc[i,j]>0.5 and corr.iloc[i,j]<1.0:\n",
    "            print(corr.index[i],corr.index[j],corr.iloc[i,j])\n",
    "            \n",
    "## max correlation is 0.63 so no need to remove any var"
   ]
  },
  {
   "cell_type": "code",
   "execution_count": 55,
   "id": "a79a2bd0",
   "metadata": {},
   "outputs": [
    {
     "name": "stdout",
     "output_type": "stream",
     "text": [
      "Age Vintage 0.622310487023859\n",
      "Vintage Age 0.622310487023859\n",
      "Vintage Channel_Code_X3 0.5336146091611278\n",
      "Occupation_Salaried Channel_Code_X1 0.5923352136986415\n",
      "Channel_Code_X1 Occupation_Salaried 0.5923352136986415\n",
      "Channel_Code_X3 Vintage 0.5336146091611278\n"
     ]
    }
   ],
   "source": [
    "## checking corr for test\n",
    "corr_test=tdf3.drop([\"ID\"],axis=1).corr()\n",
    "columns=np.full((corr_test.shape[0],),True, dtype=bool)\n",
    "for i in range(len(corr_test)):\n",
    "    for j in range(len(corr_test)):\n",
    "        if corr_test.iloc[i,j]>0.5 and corr_test.iloc[i,j]<1.0:\n",
    "            print(corr_test.index[i],corr_test.index[j],corr_test.iloc[i,j])\n",
    "            \n",
    "## max correlation is 0.62 so no need to remove any var"
   ]
  },
  {
   "cell_type": "markdown",
   "id": "e6d59a11",
   "metadata": {},
   "source": [
    "## checking for outliers"
   ]
  },
  {
   "cell_type": "code",
   "execution_count": 56,
   "id": "2c0b6b5a",
   "metadata": {},
   "outputs": [
    {
     "data": {
      "image/png": "[encoded data removed]",
      "text/plain": [
       "<Figure size 432x288 with 1 Axes>"
      ]
     },
     "metadata": {
      "needs_background": "light"
     },
     "output_type": "display_data"
    },
    {
     "data": {
      "image/png": "[encoded data removed]",
      "text/plain": [
       "<Figure size 432x288 with 1 Axes>"
      ]
     },
     "metadata": {
      "needs_background": "light"
     },
     "output_type": "display_data"
    },
    {
     "data": {
      "image/png": "[encoded data removed]",
      "text/plain": [
       "<Figure size 432x288 with 1 Axes>"
      ]
     },
     "metadata": {
      "needs_background": "light"
     },
     "output_type": "display_data"
    }
   ],
   "source": [
    "# plotting histogram for continuous var for taring data\n",
    "for j in (cont_var):\n",
    "    fig=plt.figure()\n",
    "    ax=fig.add_axes([0,0,1,1])\n",
    "    bp=ax.boxplot(df3[j])\n",
    "    plt.title(j)\n",
    "    plt.show()"
   ]
  },
  {
   "cell_type": "code",
   "execution_count": 57,
   "id": "04b1e197",
   "metadata": {},
   "outputs": [
    {
     "data": {
      "image/png": "[encoded data removed]",
      "text/plain": [
       "<Figure size 432x288 with 1 Axes>"
      ]
     },
     "metadata": {
      "needs_background": "light"
     },
     "output_type": "display_data"
    },
    {
     "data": {
      "image/png": "[encoded data removed]",
      "text/plain": [
       "<Figure size 432x288 with 1 Axes>"
      ]
     },
     "metadata": {
      "needs_background": "light"
     },
     "output_type": "display_data"
    },
    {
     "data": {
      "image/png": "[encoded data removed]",
      "text/plain": [
       "<Figure size 432x288 with 1 Axes>"
      ]
     },
     "metadata": {
      "needs_background": "light"
     },
     "output_type": "display_data"
    }
   ],
   "source": [
    "# plotting histogram for continuous var for test data\n",
    "for j in (cont_var):\n",
    "    fig=plt.figure()\n",
    "    ax=fig.add_axes([0,0,1,1])\n",
    "    bp=ax.boxplot(tdf3[j])\n",
    "    plt.title(j)\n",
    "    plt.show()"
   ]
  },
  {
   "cell_type": "code",
   "execution_count": 58,
   "id": "1470bdc4",
   "metadata": {},
   "outputs": [
    {
     "data": {
      "text/html": [
       "<div>\n",
       "<style scoped>\n",
       "    .dataframe tbody tr th:only-of-type {\n",
       "        vertical-align: middle;\n",
       "    }\n",
       "\n",
       "    .dataframe tbody tr th {\n",
       "        vertical-align: top;\n",
       "    }\n",
       "\n",
       "    .dataframe thead th {\n",
       "        text-align: right;\n",
       "    }\n",
       "</style>\n",
       "<table border=\"1\" class=\"dataframe\">\n",
       "  <thead>\n",
       "    <tr style=\"text-align: right;\">\n",
       "      <th></th>\n",
       "      <th>Age</th>\n",
       "      <th>Vintage</th>\n",
       "      <th>Avg_Account_Balance</th>\n",
       "    </tr>\n",
       "  </thead>\n",
       "  <tbody>\n",
       "    <tr>\n",
       "      <th>count</th>\n",
       "      <td>245725.000000</td>\n",
       "      <td>245725.000000</td>\n",
       "      <td>2.457250e+05</td>\n",
       "    </tr>\n",
       "    <tr>\n",
       "      <th>mean</th>\n",
       "      <td>43.856307</td>\n",
       "      <td>46.959141</td>\n",
       "      <td>1.128403e+06</td>\n",
       "    </tr>\n",
       "    <tr>\n",
       "      <th>std</th>\n",
       "      <td>14.828672</td>\n",
       "      <td>32.353136</td>\n",
       "      <td>8.529364e+05</td>\n",
       "    </tr>\n",
       "    <tr>\n",
       "      <th>min</th>\n",
       "      <td>23.000000</td>\n",
       "      <td>7.000000</td>\n",
       "      <td>2.079000e+04</td>\n",
       "    </tr>\n",
       "    <tr>\n",
       "      <th>25%</th>\n",
       "      <td>30.000000</td>\n",
       "      <td>20.000000</td>\n",
       "      <td>6.043100e+05</td>\n",
       "    </tr>\n",
       "    <tr>\n",
       "      <th>50%</th>\n",
       "      <td>43.000000</td>\n",
       "      <td>32.000000</td>\n",
       "      <td>8.946010e+05</td>\n",
       "    </tr>\n",
       "    <tr>\n",
       "      <th>75%</th>\n",
       "      <td>54.000000</td>\n",
       "      <td>73.000000</td>\n",
       "      <td>1.366666e+06</td>\n",
       "    </tr>\n",
       "    <tr>\n",
       "      <th>max</th>\n",
       "      <td>85.000000</td>\n",
       "      <td>135.000000</td>\n",
       "      <td>1.035201e+07</td>\n",
       "    </tr>\n",
       "  </tbody>\n",
       "</table>\n",
       "</div>"
      ],
      "text/plain": [
       "                 Age        Vintage  Avg_Account_Balance\n",
       "count  245725.000000  245725.000000         2.457250e+05\n",
       "mean       43.856307      46.959141         1.128403e+06\n",
       "std        14.828672      32.353136         8.529364e+05\n",
       "min        23.000000       7.000000         2.079000e+04\n",
       "25%        30.000000      20.000000         6.043100e+05\n",
       "50%        43.000000      32.000000         8.946010e+05\n",
       "75%        54.000000      73.000000         1.366666e+06\n",
       "max        85.000000     135.000000         1.035201e+07"
      ]
     },
     "execution_count": 58,
     "metadata": {},
     "output_type": "execute_result"
    }
   ],
   "source": [
    "df3[cont_var].describe()"
   ]
  },
  {
   "cell_type": "code",
   "execution_count": 59,
   "id": "2586bbfb",
   "metadata": {},
   "outputs": [],
   "source": [
    "## doing outlier treatment for training data\n",
    "## flooring\n",
    "for i in (cont_var):\n",
    "    a=np.percentile(df3[i],25)-1.5*(np.percentile(df3[i],75)-np.percentile(df3[i],25))\n",
    "    df3[i]=np.where(df3[i]<a,a,df3[i])\n",
    "    \n",
    "## capping\n",
    "for i in (cont_var):\n",
    "    b=np.percentile(df3[i],75)+1.5*(np.percentile(df3[i],75)-np.percentile(df3[i],25))\n",
    "    df3[i]=np.where(df3[i]>b,b,df3[i])"
   ]
  },
  {
   "cell_type": "code",
   "execution_count": 60,
   "id": "b7e19827",
   "metadata": {},
   "outputs": [],
   "source": [
    "## doing for test data\n",
    "\n",
    "## flooring\n",
    "for i in (cont_var):\n",
    "    a=np.percentile(df3[i],25)-1.5*(np.percentile(df3[i],75)-np.percentile(df3[i],25))\n",
    "    tdf3[i]=np.where(tdf3[i]<a,a,tdf3[i])\n",
    "    \n",
    "## capping\n",
    "for i in (cont_var):\n",
    "    b=np.percentile(df3[i],75)+1.5*(np.percentile(df3[i],75)-np.percentile(df3[i],25))\n",
    "    tdf3[i]=np.where(tdf3[i]>b,b,tdf3[i])"
   ]
  },
  {
   "cell_type": "code",
   "execution_count": 61,
   "id": "822d9654",
   "metadata": {},
   "outputs": [],
   "source": [
    "## splitting the train data into dev(70%) and itv(30%) data"
   ]
  },
  {
   "cell_type": "code",
   "execution_count": 62,
   "id": "e6b6c73f",
   "metadata": {},
   "outputs": [],
   "source": [
    "x_train,x_test,y_train,y_test=train_test_split(df3.drop(target_var,axis=1),df3[target_var],test_size=0.3,random_state=10)\n"
   ]
  },
  {
   "cell_type": "code",
   "execution_count": 63,
   "id": "f3cbb101",
   "metadata": {},
   "outputs": [
    {
     "name": "stdout",
     "output_type": "stream",
     "text": [
      "(172007, 55)\n",
      "Is_Lead\n",
      "0          0.764451\n",
      "1          0.235549\n",
      "dtype: float64\n"
     ]
    },
    {
     "data": {
      "text/html": [
       "<div>\n",
       "<style scoped>\n",
       "    .dataframe tbody tr th:only-of-type {\n",
       "        vertical-align: middle;\n",
       "    }\n",
       "\n",
       "    .dataframe tbody tr th {\n",
       "        vertical-align: top;\n",
       "    }\n",
       "\n",
       "    .dataframe thead th {\n",
       "        text-align: right;\n",
       "    }\n",
       "</style>\n",
       "<table border=\"1\" class=\"dataframe\">\n",
       "  <thead>\n",
       "    <tr style=\"text-align: right;\">\n",
       "      <th></th>\n",
       "      <th>ID</th>\n",
       "      <th>Age</th>\n",
       "      <th>Vintage</th>\n",
       "      <th>Avg_Account_Balance</th>\n",
       "      <th>Gender_Female</th>\n",
       "      <th>Gender_Male</th>\n",
       "      <th>Region_Code_RG250</th>\n",
       "      <th>Region_Code_RG251</th>\n",
       "      <th>Region_Code_RG252</th>\n",
       "      <th>Region_Code_RG253</th>\n",
       "      <th>...</th>\n",
       "      <th>Channel_Code_X1</th>\n",
       "      <th>Channel_Code_X2</th>\n",
       "      <th>Channel_Code_X3</th>\n",
       "      <th>Channel_Code_X4</th>\n",
       "      <th>Credit_Product_No</th>\n",
       "      <th>Credit_Product_Yes</th>\n",
       "      <th>Credit_Product_null_val</th>\n",
       "      <th>Is_Active_No</th>\n",
       "      <th>Is_Active_Yes</th>\n",
       "      <th>Is_Lead</th>\n",
       "    </tr>\n",
       "  </thead>\n",
       "  <tbody>\n",
       "    <tr>\n",
       "      <th>40774</th>\n",
       "      <td>NK2U7DGY</td>\n",
       "      <td>34.0</td>\n",
       "      <td>27.0</td>\n",
       "      <td>270150.0</td>\n",
       "      <td>0</td>\n",
       "      <td>1</td>\n",
       "      <td>0</td>\n",
       "      <td>0</td>\n",
       "      <td>0</td>\n",
       "      <td>0</td>\n",
       "      <td>...</td>\n",
       "      <td>1</td>\n",
       "      <td>0</td>\n",
       "      <td>0</td>\n",
       "      <td>0</td>\n",
       "      <td>1</td>\n",
       "      <td>0</td>\n",
       "      <td>0</td>\n",
       "      <td>1</td>\n",
       "      <td>0</td>\n",
       "      <td>0</td>\n",
       "    </tr>\n",
       "    <tr>\n",
       "      <th>158466</th>\n",
       "      <td>NBBAR6NX</td>\n",
       "      <td>54.0</td>\n",
       "      <td>45.0</td>\n",
       "      <td>2510200.0</td>\n",
       "      <td>0</td>\n",
       "      <td>1</td>\n",
       "      <td>0</td>\n",
       "      <td>0</td>\n",
       "      <td>0</td>\n",
       "      <td>0</td>\n",
       "      <td>...</td>\n",
       "      <td>0</td>\n",
       "      <td>0</td>\n",
       "      <td>1</td>\n",
       "      <td>0</td>\n",
       "      <td>0</td>\n",
       "      <td>1</td>\n",
       "      <td>0</td>\n",
       "      <td>1</td>\n",
       "      <td>0</td>\n",
       "      <td>0</td>\n",
       "    </tr>\n",
       "    <tr>\n",
       "      <th>82878</th>\n",
       "      <td>HXJCSIYE</td>\n",
       "      <td>61.0</td>\n",
       "      <td>50.0</td>\n",
       "      <td>1155994.0</td>\n",
       "      <td>1</td>\n",
       "      <td>0</td>\n",
       "      <td>0</td>\n",
       "      <td>0</td>\n",
       "      <td>0</td>\n",
       "      <td>0</td>\n",
       "      <td>...</td>\n",
       "      <td>1</td>\n",
       "      <td>0</td>\n",
       "      <td>0</td>\n",
       "      <td>0</td>\n",
       "      <td>1</td>\n",
       "      <td>0</td>\n",
       "      <td>0</td>\n",
       "      <td>1</td>\n",
       "      <td>0</td>\n",
       "      <td>0</td>\n",
       "    </tr>\n",
       "    <tr>\n",
       "      <th>117102</th>\n",
       "      <td>NKAGASKF</td>\n",
       "      <td>25.0</td>\n",
       "      <td>14.0</td>\n",
       "      <td>601844.0</td>\n",
       "      <td>0</td>\n",
       "      <td>1</td>\n",
       "      <td>0</td>\n",
       "      <td>0</td>\n",
       "      <td>0</td>\n",
       "      <td>0</td>\n",
       "      <td>...</td>\n",
       "      <td>1</td>\n",
       "      <td>0</td>\n",
       "      <td>0</td>\n",
       "      <td>0</td>\n",
       "      <td>1</td>\n",
       "      <td>0</td>\n",
       "      <td>0</td>\n",
       "      <td>1</td>\n",
       "      <td>0</td>\n",
       "      <td>0</td>\n",
       "    </tr>\n",
       "    <tr>\n",
       "      <th>28563</th>\n",
       "      <td>7UZBL4QL</td>\n",
       "      <td>49.0</td>\n",
       "      <td>56.0</td>\n",
       "      <td>594377.0</td>\n",
       "      <td>0</td>\n",
       "      <td>1</td>\n",
       "      <td>0</td>\n",
       "      <td>0</td>\n",
       "      <td>0</td>\n",
       "      <td>0</td>\n",
       "      <td>...</td>\n",
       "      <td>0</td>\n",
       "      <td>1</td>\n",
       "      <td>0</td>\n",
       "      <td>0</td>\n",
       "      <td>1</td>\n",
       "      <td>0</td>\n",
       "      <td>0</td>\n",
       "      <td>0</td>\n",
       "      <td>1</td>\n",
       "      <td>0</td>\n",
       "    </tr>\n",
       "  </tbody>\n",
       "</table>\n",
       "<p>5 rows × 55 columns</p>\n",
       "</div>"
      ],
      "text/plain": [
       "              ID   Age  Vintage  Avg_Account_Balance  Gender_Female  \\\n",
       "40774   NK2U7DGY  34.0     27.0             270150.0              0   \n",
       "158466  NBBAR6NX  54.0     45.0            2510200.0              0   \n",
       "82878   HXJCSIYE  61.0     50.0            1155994.0              1   \n",
       "117102  NKAGASKF  25.0     14.0             601844.0              0   \n",
       "28563   7UZBL4QL  49.0     56.0             594377.0              0   \n",
       "\n",
       "        Gender_Male  Region_Code_RG250  Region_Code_RG251  Region_Code_RG252  \\\n",
       "40774             1                  0                  0                  0   \n",
       "158466            1                  0                  0                  0   \n",
       "82878             0                  0                  0                  0   \n",
       "117102            1                  0                  0                  0   \n",
       "28563             1                  0                  0                  0   \n",
       "\n",
       "        Region_Code_RG253  ...  Channel_Code_X1  Channel_Code_X2  \\\n",
       "40774                   0  ...                1                0   \n",
       "158466                  0  ...                0                0   \n",
       "82878                   0  ...                1                0   \n",
       "117102                  0  ...                1                0   \n",
       "28563                   0  ...                0                1   \n",
       "\n",
       "        Channel_Code_X3  Channel_Code_X4  Credit_Product_No  \\\n",
       "40774                 0                0                  1   \n",
       "158466                1                0                  0   \n",
       "82878                 0                0                  1   \n",
       "117102                0                0                  1   \n",
       "28563                 0                0                  1   \n",
       "\n",
       "        Credit_Product_Yes  Credit_Product_null_val  Is_Active_No  \\\n",
       "40774                    0                        0             1   \n",
       "158466                   1                        0             1   \n",
       "82878                    0                        0             1   \n",
       "117102                   0                        0             1   \n",
       "28563                    0                        0             0   \n",
       "\n",
       "        Is_Active_Yes  Is_Lead  \n",
       "40774               0        0  \n",
       "158466              0        0  \n",
       "82878               0        0  \n",
       "117102              0        0  \n",
       "28563               1        0  \n",
       "\n",
       "[5 rows x 55 columns]"
      ]
     },
     "execution_count": 63,
     "metadata": {},
     "output_type": "execute_result"
    }
   ],
   "source": [
    "## Creating and Development data\n",
    "dev=x_train.copy()\n",
    "dev[target_var]=y_train\n",
    "print(dev.shape)\n",
    "print(dev[target_var].value_counts()/dev.shape[0])\n",
    "dev.head()"
   ]
  },
  {
   "cell_type": "code",
   "execution_count": 64,
   "id": "99b98a59",
   "metadata": {},
   "outputs": [
    {
     "name": "stdout",
     "output_type": "stream",
     "text": [
      "(73718, 55)\n",
      "Is_Lead\n",
      "0          0.758919\n",
      "1          0.241081\n",
      "dtype: float64\n"
     ]
    },
    {
     "data": {
      "text/html": [
       "<div>\n",
       "<style scoped>\n",
       "    .dataframe tbody tr th:only-of-type {\n",
       "        vertical-align: middle;\n",
       "    }\n",
       "\n",
       "    .dataframe tbody tr th {\n",
       "        vertical-align: top;\n",
       "    }\n",
       "\n",
       "    .dataframe thead th {\n",
       "        text-align: right;\n",
       "    }\n",
       "</style>\n",
       "<table border=\"1\" class=\"dataframe\">\n",
       "  <thead>\n",
       "    <tr style=\"text-align: right;\">\n",
       "      <th></th>\n",
       "      <th>ID</th>\n",
       "      <th>Age</th>\n",
       "      <th>Vintage</th>\n",
       "      <th>Avg_Account_Balance</th>\n",
       "      <th>Gender_Female</th>\n",
       "      <th>Gender_Male</th>\n",
       "      <th>Region_Code_RG250</th>\n",
       "      <th>Region_Code_RG251</th>\n",
       "      <th>Region_Code_RG252</th>\n",
       "      <th>Region_Code_RG253</th>\n",
       "      <th>...</th>\n",
       "      <th>Channel_Code_X1</th>\n",
       "      <th>Channel_Code_X2</th>\n",
       "      <th>Channel_Code_X3</th>\n",
       "      <th>Channel_Code_X4</th>\n",
       "      <th>Credit_Product_No</th>\n",
       "      <th>Credit_Product_Yes</th>\n",
       "      <th>Credit_Product_null_val</th>\n",
       "      <th>Is_Active_No</th>\n",
       "      <th>Is_Active_Yes</th>\n",
       "      <th>Is_Lead</th>\n",
       "    </tr>\n",
       "  </thead>\n",
       "  <tbody>\n",
       "    <tr>\n",
       "      <th>62674</th>\n",
       "      <td>ABZDBUYQ</td>\n",
       "      <td>59.0</td>\n",
       "      <td>91.0</td>\n",
       "      <td>522812.0</td>\n",
       "      <td>0</td>\n",
       "      <td>1</td>\n",
       "      <td>0</td>\n",
       "      <td>0</td>\n",
       "      <td>0</td>\n",
       "      <td>0</td>\n",
       "      <td>...</td>\n",
       "      <td>0</td>\n",
       "      <td>0</td>\n",
       "      <td>1</td>\n",
       "      <td>0</td>\n",
       "      <td>0</td>\n",
       "      <td>0</td>\n",
       "      <td>1</td>\n",
       "      <td>1</td>\n",
       "      <td>0</td>\n",
       "      <td>1</td>\n",
       "    </tr>\n",
       "    <tr>\n",
       "      <th>94222</th>\n",
       "      <td>LCCNBMFC</td>\n",
       "      <td>43.0</td>\n",
       "      <td>86.0</td>\n",
       "      <td>1516444.0</td>\n",
       "      <td>0</td>\n",
       "      <td>1</td>\n",
       "      <td>0</td>\n",
       "      <td>0</td>\n",
       "      <td>0</td>\n",
       "      <td>0</td>\n",
       "      <td>...</td>\n",
       "      <td>0</td>\n",
       "      <td>1</td>\n",
       "      <td>0</td>\n",
       "      <td>0</td>\n",
       "      <td>1</td>\n",
       "      <td>0</td>\n",
       "      <td>0</td>\n",
       "      <td>0</td>\n",
       "      <td>1</td>\n",
       "      <td>0</td>\n",
       "    </tr>\n",
       "    <tr>\n",
       "      <th>30588</th>\n",
       "      <td>CFN6TCIQ</td>\n",
       "      <td>27.0</td>\n",
       "      <td>27.0</td>\n",
       "      <td>1434315.0</td>\n",
       "      <td>1</td>\n",
       "      <td>0</td>\n",
       "      <td>0</td>\n",
       "      <td>0</td>\n",
       "      <td>0</td>\n",
       "      <td>0</td>\n",
       "      <td>...</td>\n",
       "      <td>1</td>\n",
       "      <td>0</td>\n",
       "      <td>0</td>\n",
       "      <td>0</td>\n",
       "      <td>1</td>\n",
       "      <td>0</td>\n",
       "      <td>0</td>\n",
       "      <td>1</td>\n",
       "      <td>0</td>\n",
       "      <td>0</td>\n",
       "    </tr>\n",
       "    <tr>\n",
       "      <th>123623</th>\n",
       "      <td>DUO6WXPQ</td>\n",
       "      <td>54.0</td>\n",
       "      <td>110.0</td>\n",
       "      <td>448390.0</td>\n",
       "      <td>1</td>\n",
       "      <td>0</td>\n",
       "      <td>0</td>\n",
       "      <td>0</td>\n",
       "      <td>0</td>\n",
       "      <td>0</td>\n",
       "      <td>...</td>\n",
       "      <td>0</td>\n",
       "      <td>0</td>\n",
       "      <td>1</td>\n",
       "      <td>0</td>\n",
       "      <td>0</td>\n",
       "      <td>1</td>\n",
       "      <td>0</td>\n",
       "      <td>1</td>\n",
       "      <td>0</td>\n",
       "      <td>0</td>\n",
       "    </tr>\n",
       "    <tr>\n",
       "      <th>237616</th>\n",
       "      <td>AUPKSWBZ</td>\n",
       "      <td>40.0</td>\n",
       "      <td>91.0</td>\n",
       "      <td>601898.0</td>\n",
       "      <td>1</td>\n",
       "      <td>0</td>\n",
       "      <td>0</td>\n",
       "      <td>0</td>\n",
       "      <td>0</td>\n",
       "      <td>0</td>\n",
       "      <td>...</td>\n",
       "      <td>0</td>\n",
       "      <td>0</td>\n",
       "      <td>1</td>\n",
       "      <td>0</td>\n",
       "      <td>1</td>\n",
       "      <td>0</td>\n",
       "      <td>0</td>\n",
       "      <td>1</td>\n",
       "      <td>0</td>\n",
       "      <td>0</td>\n",
       "    </tr>\n",
       "  </tbody>\n",
       "</table>\n",
       "<p>5 rows × 55 columns</p>\n",
       "</div>"
      ],
      "text/plain": [
       "              ID   Age  Vintage  Avg_Account_Balance  Gender_Female  \\\n",
       "62674   ABZDBUYQ  59.0     91.0             522812.0              0   \n",
       "94222   LCCNBMFC  43.0     86.0            1516444.0              0   \n",
       "30588   CFN6TCIQ  27.0     27.0            1434315.0              1   \n",
       "123623  DUO6WXPQ  54.0    110.0             448390.0              1   \n",
       "237616  AUPKSWBZ  40.0     91.0             601898.0              1   \n",
       "\n",
       "        Gender_Male  Region_Code_RG250  Region_Code_RG251  Region_Code_RG252  \\\n",
       "62674             1                  0                  0                  0   \n",
       "94222             1                  0                  0                  0   \n",
       "30588             0                  0                  0                  0   \n",
       "123623            0                  0                  0                  0   \n",
       "237616            0                  0                  0                  0   \n",
       "\n",
       "        Region_Code_RG253  ...  Channel_Code_X1  Channel_Code_X2  \\\n",
       "62674                   0  ...                0                0   \n",
       "94222                   0  ...                0                1   \n",
       "30588                   0  ...                1                0   \n",
       "123623                  0  ...                0                0   \n",
       "237616                  0  ...                0                0   \n",
       "\n",
       "        Channel_Code_X3  Channel_Code_X4  Credit_Product_No  \\\n",
       "62674                 1                0                  0   \n",
       "94222                 0                0                  1   \n",
       "30588                 0                0                  1   \n",
       "123623                1                0                  0   \n",
       "237616                1                0                  1   \n",
       "\n",
       "        Credit_Product_Yes  Credit_Product_null_val  Is_Active_No  \\\n",
       "62674                    0                        1             1   \n",
       "94222                    0                        0             0   \n",
       "30588                    0                        0             1   \n",
       "123623                   1                        0             1   \n",
       "237616                   0                        0             1   \n",
       "\n",
       "        Is_Active_Yes  Is_Lead  \n",
       "62674               0        1  \n",
       "94222               1        0  \n",
       "30588               0        0  \n",
       "123623              0        0  \n",
       "237616              0        0  \n",
       "\n",
       "[5 rows x 55 columns]"
      ]
     },
     "execution_count": 64,
     "metadata": {},
     "output_type": "execute_result"
    }
   ],
   "source": [
    "## Creating and in time validation data\n",
    "itv=x_test.copy()\n",
    "itv[target_var]=y_test\n",
    "print(itv.shape)\n",
    "print(itv[target_var].value_counts()/itv.shape[0])\n",
    "itv.head()"
   ]
  },
  {
   "cell_type": "code",
   "execution_count": 65,
   "id": "b60e164f",
   "metadata": {},
   "outputs": [
    {
     "name": "stdout",
     "output_type": "stream",
     "text": [
      "(105312, 54)\n"
     ]
    },
    {
     "data": {
      "text/html": [
       "<div>\n",
       "<style scoped>\n",
       "    .dataframe tbody tr th:only-of-type {\n",
       "        vertical-align: middle;\n",
       "    }\n",
       "\n",
       "    .dataframe tbody tr th {\n",
       "        vertical-align: top;\n",
       "    }\n",
       "\n",
       "    .dataframe thead th {\n",
       "        text-align: right;\n",
       "    }\n",
       "</style>\n",
       "<table border=\"1\" class=\"dataframe\">\n",
       "  <thead>\n",
       "    <tr style=\"text-align: right;\">\n",
       "      <th></th>\n",
       "      <th>ID</th>\n",
       "      <th>Age</th>\n",
       "      <th>Vintage</th>\n",
       "      <th>Avg_Account_Balance</th>\n",
       "      <th>Gender_Female</th>\n",
       "      <th>Gender_Male</th>\n",
       "      <th>Region_Code_RG250</th>\n",
       "      <th>Region_Code_RG251</th>\n",
       "      <th>Region_Code_RG252</th>\n",
       "      <th>Region_Code_RG253</th>\n",
       "      <th>...</th>\n",
       "      <th>Occupation_Self_Employed</th>\n",
       "      <th>Channel_Code_X1</th>\n",
       "      <th>Channel_Code_X2</th>\n",
       "      <th>Channel_Code_X3</th>\n",
       "      <th>Channel_Code_X4</th>\n",
       "      <th>Credit_Product_No</th>\n",
       "      <th>Credit_Product_Yes</th>\n",
       "      <th>Credit_Product_null_val</th>\n",
       "      <th>Is_Active_No</th>\n",
       "      <th>Is_Active_Yes</th>\n",
       "    </tr>\n",
       "  </thead>\n",
       "  <tbody>\n",
       "    <tr>\n",
       "      <th>0</th>\n",
       "      <td>VBENBARO</td>\n",
       "      <td>29.0</td>\n",
       "      <td>25.0</td>\n",
       "      <td>742366.0</td>\n",
       "      <td>0</td>\n",
       "      <td>1</td>\n",
       "      <td>0</td>\n",
       "      <td>0</td>\n",
       "      <td>0</td>\n",
       "      <td>0</td>\n",
       "      <td>...</td>\n",
       "      <td>0</td>\n",
       "      <td>1</td>\n",
       "      <td>0</td>\n",
       "      <td>0</td>\n",
       "      <td>0</td>\n",
       "      <td>0</td>\n",
       "      <td>1</td>\n",
       "      <td>0</td>\n",
       "      <td>1</td>\n",
       "      <td>0</td>\n",
       "    </tr>\n",
       "    <tr>\n",
       "      <th>1</th>\n",
       "      <td>CCMEWNKY</td>\n",
       "      <td>43.0</td>\n",
       "      <td>49.0</td>\n",
       "      <td>925537.0</td>\n",
       "      <td>0</td>\n",
       "      <td>1</td>\n",
       "      <td>0</td>\n",
       "      <td>0</td>\n",
       "      <td>0</td>\n",
       "      <td>0</td>\n",
       "      <td>...</td>\n",
       "      <td>0</td>\n",
       "      <td>0</td>\n",
       "      <td>1</td>\n",
       "      <td>0</td>\n",
       "      <td>0</td>\n",
       "      <td>0</td>\n",
       "      <td>0</td>\n",
       "      <td>1</td>\n",
       "      <td>1</td>\n",
       "      <td>0</td>\n",
       "    </tr>\n",
       "    <tr>\n",
       "      <th>2</th>\n",
       "      <td>VK3KGA9M</td>\n",
       "      <td>31.0</td>\n",
       "      <td>14.0</td>\n",
       "      <td>215949.0</td>\n",
       "      <td>0</td>\n",
       "      <td>1</td>\n",
       "      <td>0</td>\n",
       "      <td>0</td>\n",
       "      <td>0</td>\n",
       "      <td>0</td>\n",
       "      <td>...</td>\n",
       "      <td>0</td>\n",
       "      <td>1</td>\n",
       "      <td>0</td>\n",
       "      <td>0</td>\n",
       "      <td>0</td>\n",
       "      <td>1</td>\n",
       "      <td>0</td>\n",
       "      <td>0</td>\n",
       "      <td>1</td>\n",
       "      <td>0</td>\n",
       "    </tr>\n",
       "    <tr>\n",
       "      <th>3</th>\n",
       "      <td>TT8RPZVC</td>\n",
       "      <td>29.0</td>\n",
       "      <td>33.0</td>\n",
       "      <td>868070.0</td>\n",
       "      <td>0</td>\n",
       "      <td>1</td>\n",
       "      <td>0</td>\n",
       "      <td>0</td>\n",
       "      <td>0</td>\n",
       "      <td>0</td>\n",
       "      <td>...</td>\n",
       "      <td>0</td>\n",
       "      <td>1</td>\n",
       "      <td>0</td>\n",
       "      <td>0</td>\n",
       "      <td>0</td>\n",
       "      <td>1</td>\n",
       "      <td>0</td>\n",
       "      <td>0</td>\n",
       "      <td>1</td>\n",
       "      <td>0</td>\n",
       "    </tr>\n",
       "    <tr>\n",
       "      <th>4</th>\n",
       "      <td>SHQZEYTZ</td>\n",
       "      <td>29.0</td>\n",
       "      <td>19.0</td>\n",
       "      <td>657087.0</td>\n",
       "      <td>1</td>\n",
       "      <td>0</td>\n",
       "      <td>0</td>\n",
       "      <td>0</td>\n",
       "      <td>0</td>\n",
       "      <td>0</td>\n",
       "      <td>...</td>\n",
       "      <td>0</td>\n",
       "      <td>1</td>\n",
       "      <td>0</td>\n",
       "      <td>0</td>\n",
       "      <td>0</td>\n",
       "      <td>1</td>\n",
       "      <td>0</td>\n",
       "      <td>0</td>\n",
       "      <td>1</td>\n",
       "      <td>0</td>\n",
       "    </tr>\n",
       "  </tbody>\n",
       "</table>\n",
       "<p>5 rows × 54 columns</p>\n",
       "</div>"
      ],
      "text/plain": [
       "         ID   Age  Vintage  Avg_Account_Balance  Gender_Female  Gender_Male  \\\n",
       "0  VBENBARO  29.0     25.0             742366.0              0            1   \n",
       "1  CCMEWNKY  43.0     49.0             925537.0              0            1   \n",
       "2  VK3KGA9M  31.0     14.0             215949.0              0            1   \n",
       "3  TT8RPZVC  29.0     33.0             868070.0              0            1   \n",
       "4  SHQZEYTZ  29.0     19.0             657087.0              1            0   \n",
       "\n",
       "   Region_Code_RG250  Region_Code_RG251  Region_Code_RG252  Region_Code_RG253  \\\n",
       "0                  0                  0                  0                  0   \n",
       "1                  0                  0                  0                  0   \n",
       "2                  0                  0                  0                  0   \n",
       "3                  0                  0                  0                  0   \n",
       "4                  0                  0                  0                  0   \n",
       "\n",
       "   ...  Occupation_Self_Employed  Channel_Code_X1  Channel_Code_X2  \\\n",
       "0  ...                         0                1                0   \n",
       "1  ...                         0                0                1   \n",
       "2  ...                         0                1                0   \n",
       "3  ...                         0                1                0   \n",
       "4  ...                         0                1                0   \n",
       "\n",
       "   Channel_Code_X3  Channel_Code_X4  Credit_Product_No  Credit_Product_Yes  \\\n",
       "0                0                0                  0                   1   \n",
       "1                0                0                  0                   0   \n",
       "2                0                0                  1                   0   \n",
       "3                0                0                  1                   0   \n",
       "4                0                0                  1                   0   \n",
       "\n",
       "   Credit_Product_null_val  Is_Active_No  Is_Active_Yes  \n",
       "0                        0             1              0  \n",
       "1                        1             1              0  \n",
       "2                        0             1              0  \n",
       "3                        0             1              0  \n",
       "4                        0             1              0  \n",
       "\n",
       "[5 rows x 54 columns]"
      ]
     },
     "execution_count": 65,
     "metadata": {},
     "output_type": "execute_result"
    }
   ],
   "source": [
    "## creating out of time validation data\n",
    "otv=tdf3.copy()\n",
    "print(otv.shape)\n",
    "otv.head()"
   ]
  },
  {
   "cell_type": "code",
   "execution_count": 66,
   "id": "494a985b",
   "metadata": {},
   "outputs": [
    {
     "name": "stdout",
     "output_type": "stream",
     "text": [
      "53\n"
     ]
    }
   ],
   "source": [
    "## creating a list of variables based on types\n",
    "# catg_var=[\"Gender\",\"Region_Code\",\"Occupation\",\"Channel_Code\",\"Credit_Product\",\"Is_Active\"]\n",
    "# cont_var=[\"Age\",\"Vintage\",\"Avg_Account_Balance\"]\n",
    "cust_id=[\"ID\"]\n",
    "target_var=[\"Is_Lead\"]\n",
    "variable_grid=dev.drop([\"ID\",\"Is_Lead\"],axis=1).columns\n",
    "print(len(variable_grid))"
   ]
  },
  {
   "cell_type": "markdown",
   "id": "c886811a",
   "metadata": {},
   "source": [
    "## Building Logistic Regression Model"
   ]
  },
  {
   "cell_type": "code",
   "execution_count": 67,
   "id": "a832fff6",
   "metadata": {},
   "outputs": [],
   "source": [
    "# instantiate the model (using the default parameters)\n",
    "logreg = LogisticRegression()"
   ]
  },
  {
   "cell_type": "code",
   "execution_count": 68,
   "id": "c3e57a6e",
   "metadata": {},
   "outputs": [
    {
     "name": "stderr",
     "output_type": "stream",
     "text": [
      "/Users/deepaksingla/opt/anaconda3/lib/python3.8/site-packages/sklearn/utils/validation.py:63: DataConversionWarning: A column-vector y was passed when a 1d array was expected. Please change the shape of y to (n_samples, ), for example using ravel().\n",
      "  return f(*args, **kwargs)\n"
     ]
    },
    {
     "data": {
      "text/plain": [
       "LogisticRegression()"
      ]
     },
     "execution_count": 68,
     "metadata": {},
     "output_type": "execute_result"
    }
   ],
   "source": [
    "# fit the model with data\n",
    "logreg.fit(dev[variable_grid],dev[target_var])"
   ]
  },
  {
   "cell_type": "code",
   "execution_count": 69,
   "id": "51df534e",
   "metadata": {},
   "outputs": [],
   "source": [
    "# Predicting for dev\n",
    "y_pred=logreg.predict_proba(dev[variable_grid])\n",
    "\n",
    "# Predicting for itv\n",
    "y_itv=logreg.predict_proba(itv[variable_grid])\n",
    "\n",
    "# Predicting for otv\n",
    "y_otv=logreg.predict_proba(otv[variable_grid])"
   ]
  },
  {
   "cell_type": "code",
   "execution_count": 70,
   "id": "f048b725",
   "metadata": {},
   "outputs": [
    {
     "data": {
      "text/plain": [
       "array([[0.61891191, 0.38108809],\n",
       "       [0.92373924, 0.07626076],\n",
       "       [0.80279554, 0.19720446],\n",
       "       ...,\n",
       "       [0.84473241, 0.15526759],\n",
       "       [0.8026693 , 0.1973307 ],\n",
       "       [0.90690718, 0.09309282]])"
      ]
     },
     "execution_count": 70,
     "metadata": {},
     "output_type": "execute_result"
    }
   ],
   "source": [
    "y_pred"
   ]
  },
  {
   "cell_type": "code",
   "execution_count": 71,
   "id": "9ce0933c",
   "metadata": {},
   "outputs": [
    {
     "name": "stdout",
     "output_type": "stream",
     "text": [
      "(172007, 3)\n",
      "0\n"
     ]
    },
    {
     "name": "stderr",
     "output_type": "stream",
     "text": [
      "<ipython-input-71-bd2928699db7>:3: SettingWithCopyWarning: \n",
      "A value is trying to be set on a copy of a slice from a DataFrame.\n",
      "Try using .loc[row_indexer,col_indexer] = value instead\n",
      "\n",
      "See the caveats in the documentation: https://pandas.pydata.org/pandas-docs/stable/user_guide/indexing.html#returning-a-view-versus-a-copy\n",
      "  dev_score[\"prob\"]=y_pred[:, 1]\n"
     ]
    },
    {
     "data": {
      "text/html": [
       "<div>\n",
       "<style scoped>\n",
       "    .dataframe tbody tr th:only-of-type {\n",
       "        vertical-align: middle;\n",
       "    }\n",
       "\n",
       "    .dataframe tbody tr th {\n",
       "        vertical-align: top;\n",
       "    }\n",
       "\n",
       "    .dataframe thead th {\n",
       "        text-align: right;\n",
       "    }\n",
       "</style>\n",
       "<table border=\"1\" class=\"dataframe\">\n",
       "  <thead>\n",
       "    <tr style=\"text-align: right;\">\n",
       "      <th></th>\n",
       "      <th>ID</th>\n",
       "      <th>Is_Lead</th>\n",
       "      <th>prob</th>\n",
       "    </tr>\n",
       "  </thead>\n",
       "  <tbody>\n",
       "    <tr>\n",
       "      <th>40774</th>\n",
       "      <td>NK2U7DGY</td>\n",
       "      <td>0</td>\n",
       "      <td>0.381088</td>\n",
       "    </tr>\n",
       "    <tr>\n",
       "      <th>158466</th>\n",
       "      <td>NBBAR6NX</td>\n",
       "      <td>0</td>\n",
       "      <td>0.076261</td>\n",
       "    </tr>\n",
       "    <tr>\n",
       "      <th>82878</th>\n",
       "      <td>HXJCSIYE</td>\n",
       "      <td>0</td>\n",
       "      <td>0.197204</td>\n",
       "    </tr>\n",
       "    <tr>\n",
       "      <th>117102</th>\n",
       "      <td>NKAGASKF</td>\n",
       "      <td>0</td>\n",
       "      <td>0.303419</td>\n",
       "    </tr>\n",
       "    <tr>\n",
       "      <th>28563</th>\n",
       "      <td>7UZBL4QL</td>\n",
       "      <td>0</td>\n",
       "      <td>0.378752</td>\n",
       "    </tr>\n",
       "  </tbody>\n",
       "</table>\n",
       "</div>"
      ],
      "text/plain": [
       "              ID  Is_Lead      prob\n",
       "40774   NK2U7DGY        0  0.381088\n",
       "158466  NBBAR6NX        0  0.076261\n",
       "82878   HXJCSIYE        0  0.197204\n",
       "117102  NKAGASKF        0  0.303419\n",
       "28563   7UZBL4QL        0  0.378752"
      ]
     },
     "execution_count": 71,
     "metadata": {},
     "output_type": "execute_result"
    }
   ],
   "source": [
    "## preparing the score file for dev data\n",
    "dev_score=dev[cust_id+target_var]\n",
    "dev_score[\"prob\"]=y_pred[:, 1]\n",
    "print(dev_score.shape)\n",
    "print(dev_score.isnull().sum().sum())\n",
    "dev_score.head()"
   ]
  },
  {
   "cell_type": "code",
   "execution_count": 72,
   "id": "0676601c",
   "metadata": {},
   "outputs": [
    {
     "name": "stdout",
     "output_type": "stream",
     "text": [
      "(73718, 3)\n",
      "0\n"
     ]
    },
    {
     "name": "stderr",
     "output_type": "stream",
     "text": [
      "<ipython-input-72-4b2b0983f01a>:3: SettingWithCopyWarning: \n",
      "A value is trying to be set on a copy of a slice from a DataFrame.\n",
      "Try using .loc[row_indexer,col_indexer] = value instead\n",
      "\n",
      "See the caveats in the documentation: https://pandas.pydata.org/pandas-docs/stable/user_guide/indexing.html#returning-a-view-versus-a-copy\n",
      "  itv_score[\"prob\"]=y_itv[:, 1]\n"
     ]
    },
    {
     "data": {
      "text/html": [
       "<div>\n",
       "<style scoped>\n",
       "    .dataframe tbody tr th:only-of-type {\n",
       "        vertical-align: middle;\n",
       "    }\n",
       "\n",
       "    .dataframe tbody tr th {\n",
       "        vertical-align: top;\n",
       "    }\n",
       "\n",
       "    .dataframe thead th {\n",
       "        text-align: right;\n",
       "    }\n",
       "</style>\n",
       "<table border=\"1\" class=\"dataframe\">\n",
       "  <thead>\n",
       "    <tr style=\"text-align: right;\">\n",
       "      <th></th>\n",
       "      <th>ID</th>\n",
       "      <th>Is_Lead</th>\n",
       "      <th>prob</th>\n",
       "    </tr>\n",
       "  </thead>\n",
       "  <tbody>\n",
       "    <tr>\n",
       "      <th>62674</th>\n",
       "      <td>ABZDBUYQ</td>\n",
       "      <td>1</td>\n",
       "      <td>0.521589</td>\n",
       "    </tr>\n",
       "    <tr>\n",
       "      <th>94222</th>\n",
       "      <td>LCCNBMFC</td>\n",
       "      <td>0</td>\n",
       "      <td>0.381499</td>\n",
       "    </tr>\n",
       "    <tr>\n",
       "      <th>30588</th>\n",
       "      <td>CFN6TCIQ</td>\n",
       "      <td>0</td>\n",
       "      <td>0.212523</td>\n",
       "    </tr>\n",
       "    <tr>\n",
       "      <th>123623</th>\n",
       "      <td>DUO6WXPQ</td>\n",
       "      <td>0</td>\n",
       "      <td>0.664887</td>\n",
       "    </tr>\n",
       "    <tr>\n",
       "      <th>237616</th>\n",
       "      <td>AUPKSWBZ</td>\n",
       "      <td>0</td>\n",
       "      <td>0.617878</td>\n",
       "    </tr>\n",
       "  </tbody>\n",
       "</table>\n",
       "</div>"
      ],
      "text/plain": [
       "              ID  Is_Lead      prob\n",
       "62674   ABZDBUYQ        1  0.521589\n",
       "94222   LCCNBMFC        0  0.381499\n",
       "30588   CFN6TCIQ        0  0.212523\n",
       "123623  DUO6WXPQ        0  0.664887\n",
       "237616  AUPKSWBZ        0  0.617878"
      ]
     },
     "execution_count": 72,
     "metadata": {},
     "output_type": "execute_result"
    }
   ],
   "source": [
    "## preparing the score file for itv data\n",
    "itv_score=itv[cust_id+target_var]\n",
    "itv_score[\"prob\"]=y_itv[:, 1]\n",
    "print(itv_score.shape)\n",
    "print(itv_score.isnull().sum().sum())\n",
    "itv_score.head()"
   ]
  },
  {
   "cell_type": "code",
   "execution_count": 73,
   "id": "50e985ce",
   "metadata": {},
   "outputs": [
    {
     "name": "stdout",
     "output_type": "stream",
     "text": [
      "(105312, 2)\n",
      "0\n"
     ]
    },
    {
     "name": "stderr",
     "output_type": "stream",
     "text": [
      "<ipython-input-73-107cee7ab5dc>:3: SettingWithCopyWarning: \n",
      "A value is trying to be set on a copy of a slice from a DataFrame.\n",
      "Try using .loc[row_indexer,col_indexer] = value instead\n",
      "\n",
      "See the caveats in the documentation: https://pandas.pydata.org/pandas-docs/stable/user_guide/indexing.html#returning-a-view-versus-a-copy\n",
      "  otv_score[\"prob\"]=y_otv[:, 1]\n"
     ]
    },
    {
     "data": {
      "text/html": [
       "<div>\n",
       "<style scoped>\n",
       "    .dataframe tbody tr th:only-of-type {\n",
       "        vertical-align: middle;\n",
       "    }\n",
       "\n",
       "    .dataframe tbody tr th {\n",
       "        vertical-align: top;\n",
       "    }\n",
       "\n",
       "    .dataframe thead th {\n",
       "        text-align: right;\n",
       "    }\n",
       "</style>\n",
       "<table border=\"1\" class=\"dataframe\">\n",
       "  <thead>\n",
       "    <tr style=\"text-align: right;\">\n",
       "      <th></th>\n",
       "      <th>ID</th>\n",
       "      <th>prob</th>\n",
       "    </tr>\n",
       "  </thead>\n",
       "  <tbody>\n",
       "    <tr>\n",
       "      <th>0</th>\n",
       "      <td>VBENBARO</td>\n",
       "      <td>0.308602</td>\n",
       "    </tr>\n",
       "    <tr>\n",
       "      <th>1</th>\n",
       "      <td>CCMEWNKY</td>\n",
       "      <td>0.314163</td>\n",
       "    </tr>\n",
       "    <tr>\n",
       "      <th>2</th>\n",
       "      <td>VK3KGA9M</td>\n",
       "      <td>0.343404</td>\n",
       "    </tr>\n",
       "    <tr>\n",
       "      <th>3</th>\n",
       "      <td>TT8RPZVC</td>\n",
       "      <td>0.322452</td>\n",
       "    </tr>\n",
       "    <tr>\n",
       "      <th>4</th>\n",
       "      <td>SHQZEYTZ</td>\n",
       "      <td>0.295766</td>\n",
       "    </tr>\n",
       "  </tbody>\n",
       "</table>\n",
       "</div>"
      ],
      "text/plain": [
       "         ID      prob\n",
       "0  VBENBARO  0.308602\n",
       "1  CCMEWNKY  0.314163\n",
       "2  VK3KGA9M  0.343404\n",
       "3  TT8RPZVC  0.322452\n",
       "4  SHQZEYTZ  0.295766"
      ]
     },
     "execution_count": 73,
     "metadata": {},
     "output_type": "execute_result"
    }
   ],
   "source": [
    "## preparing the score file for otv data\n",
    "otv_score=otv[cust_id]\n",
    "otv_score[\"prob\"]=y_otv[:, 1]\n",
    "print(otv_score.shape)\n",
    "print(otv_score.isnull().sum().sum())\n",
    "otv_score.head()"
   ]
  },
  {
   "cell_type": "code",
   "execution_count": 74,
   "id": "813c5016",
   "metadata": {},
   "outputs": [
    {
     "name": "stdout",
     "output_type": "stream",
     "text": [
      "0.5738545876317654\n",
      "0.5722968085628436\n"
     ]
    }
   ],
   "source": [
    "## scoring the aucroc\n",
    "print(roc_auc_score(dev_score[\"Is_Lead\"], dev_score[\"prob\"]))\n",
    "print(roc_auc_score(itv_score[\"Is_Lead\"], itv_score[\"prob\"]))"
   ]
  },
  {
   "cell_type": "markdown",
   "id": "6e3c7b24",
   "metadata": {},
   "source": [
    "## Building Random Forest Model"
   ]
  },
  {
   "cell_type": "code",
   "execution_count": 75,
   "id": "3f5421e6",
   "metadata": {},
   "outputs": [],
   "source": [
    "## defining random forest classifier\n",
    "rf_clf = RandomForestClassifier(n_estimators=500,criterion='gini',max_depth=4,random_state=0)"
   ]
  },
  {
   "cell_type": "code",
   "execution_count": 76,
   "id": "e0135454",
   "metadata": {},
   "outputs": [
    {
     "name": "stderr",
     "output_type": "stream",
     "text": [
      "<ipython-input-76-6ccbc39c81c6>:2: DataConversionWarning: A column-vector y was passed when a 1d array was expected. Please change the shape of y to (n_samples,), for example using ravel().\n",
      "  rf_clf.fit(dev[variable_grid],dev[target_var])\n"
     ]
    },
    {
     "data": {
      "text/plain": [
       "RandomForestClassifier(max_depth=4, n_estimators=500, random_state=0)"
      ]
     },
     "execution_count": 76,
     "metadata": {},
     "output_type": "execute_result"
    }
   ],
   "source": [
    "# fit the model with data\n",
    "rf_clf.fit(dev[variable_grid],dev[target_var])"
   ]
  },
  {
   "cell_type": "code",
   "execution_count": 77,
   "id": "89b811de",
   "metadata": {},
   "outputs": [],
   "source": [
    "# Predicting for dev\n",
    "y_pred=rf_clf.predict_proba(dev[variable_grid])\n",
    "\n",
    "# Predicting for itv\n",
    "y_itv=rf_clf.predict_proba(itv[variable_grid])\n",
    "\n",
    "# Predicting for otv\n",
    "y_otv=rf_clf.predict_proba(otv[variable_grid])"
   ]
  },
  {
   "cell_type": "code",
   "execution_count": 78,
   "id": "e1ab3fd8",
   "metadata": {},
   "outputs": [
    {
     "name": "stdout",
     "output_type": "stream",
     "text": [
      "(172007, 3)\n",
      "0\n"
     ]
    },
    {
     "name": "stderr",
     "output_type": "stream",
     "text": [
      "<ipython-input-78-bd2928699db7>:3: SettingWithCopyWarning: \n",
      "A value is trying to be set on a copy of a slice from a DataFrame.\n",
      "Try using .loc[row_indexer,col_indexer] = value instead\n",
      "\n",
      "See the caveats in the documentation: https://pandas.pydata.org/pandas-docs/stable/user_guide/indexing.html#returning-a-view-versus-a-copy\n",
      "  dev_score[\"prob\"]=y_pred[:, 1]\n"
     ]
    },
    {
     "data": {
      "text/html": [
       "<div>\n",
       "<style scoped>\n",
       "    .dataframe tbody tr th:only-of-type {\n",
       "        vertical-align: middle;\n",
       "    }\n",
       "\n",
       "    .dataframe tbody tr th {\n",
       "        vertical-align: top;\n",
       "    }\n",
       "\n",
       "    .dataframe thead th {\n",
       "        text-align: right;\n",
       "    }\n",
       "</style>\n",
       "<table border=\"1\" class=\"dataframe\">\n",
       "  <thead>\n",
       "    <tr style=\"text-align: right;\">\n",
       "      <th></th>\n",
       "      <th>ID</th>\n",
       "      <th>Is_Lead</th>\n",
       "      <th>prob</th>\n",
       "    </tr>\n",
       "  </thead>\n",
       "  <tbody>\n",
       "    <tr>\n",
       "      <th>40774</th>\n",
       "      <td>NK2U7DGY</td>\n",
       "      <td>0</td>\n",
       "      <td>0.071219</td>\n",
       "    </tr>\n",
       "    <tr>\n",
       "      <th>158466</th>\n",
       "      <td>NBBAR6NX</td>\n",
       "      <td>0</td>\n",
       "      <td>0.298140</td>\n",
       "    </tr>\n",
       "    <tr>\n",
       "      <th>82878</th>\n",
       "      <td>HXJCSIYE</td>\n",
       "      <td>0</td>\n",
       "      <td>0.109589</td>\n",
       "    </tr>\n",
       "    <tr>\n",
       "      <th>117102</th>\n",
       "      <td>NKAGASKF</td>\n",
       "      <td>0</td>\n",
       "      <td>0.070404</td>\n",
       "    </tr>\n",
       "    <tr>\n",
       "      <th>28563</th>\n",
       "      <td>7UZBL4QL</td>\n",
       "      <td>0</td>\n",
       "      <td>0.158932</td>\n",
       "    </tr>\n",
       "  </tbody>\n",
       "</table>\n",
       "</div>"
      ],
      "text/plain": [
       "              ID  Is_Lead      prob\n",
       "40774   NK2U7DGY        0  0.071219\n",
       "158466  NBBAR6NX        0  0.298140\n",
       "82878   HXJCSIYE        0  0.109589\n",
       "117102  NKAGASKF        0  0.070404\n",
       "28563   7UZBL4QL        0  0.158932"
      ]
     },
     "execution_count": 78,
     "metadata": {},
     "output_type": "execute_result"
    }
   ],
   "source": [
    "## preparing the score file for dev data\n",
    "dev_score=dev[cust_id+target_var]\n",
    "dev_score[\"prob\"]=y_pred[:, 1]\n",
    "print(dev_score.shape)\n",
    "print(dev_score.isnull().sum().sum())\n",
    "dev_score.head()"
   ]
  },
  {
   "cell_type": "code",
   "execution_count": 79,
   "id": "26c4c743",
   "metadata": {},
   "outputs": [
    {
     "name": "stdout",
     "output_type": "stream",
     "text": [
      "(73718, 3)\n",
      "0\n"
     ]
    },
    {
     "name": "stderr",
     "output_type": "stream",
     "text": [
      "<ipython-input-79-4b2b0983f01a>:3: SettingWithCopyWarning: \n",
      "A value is trying to be set on a copy of a slice from a DataFrame.\n",
      "Try using .loc[row_indexer,col_indexer] = value instead\n",
      "\n",
      "See the caveats in the documentation: https://pandas.pydata.org/pandas-docs/stable/user_guide/indexing.html#returning-a-view-versus-a-copy\n",
      "  itv_score[\"prob\"]=y_itv[:, 1]\n"
     ]
    },
    {
     "data": {
      "text/html": [
       "<div>\n",
       "<style scoped>\n",
       "    .dataframe tbody tr th:only-of-type {\n",
       "        vertical-align: middle;\n",
       "    }\n",
       "\n",
       "    .dataframe tbody tr th {\n",
       "        vertical-align: top;\n",
       "    }\n",
       "\n",
       "    .dataframe thead th {\n",
       "        text-align: right;\n",
       "    }\n",
       "</style>\n",
       "<table border=\"1\" class=\"dataframe\">\n",
       "  <thead>\n",
       "    <tr style=\"text-align: right;\">\n",
       "      <th></th>\n",
       "      <th>ID</th>\n",
       "      <th>Is_Lead</th>\n",
       "      <th>prob</th>\n",
       "    </tr>\n",
       "  </thead>\n",
       "  <tbody>\n",
       "    <tr>\n",
       "      <th>62674</th>\n",
       "      <td>ABZDBUYQ</td>\n",
       "      <td>1</td>\n",
       "      <td>0.622123</td>\n",
       "    </tr>\n",
       "    <tr>\n",
       "      <th>94222</th>\n",
       "      <td>LCCNBMFC</td>\n",
       "      <td>0</td>\n",
       "      <td>0.213948</td>\n",
       "    </tr>\n",
       "    <tr>\n",
       "      <th>30588</th>\n",
       "      <td>CFN6TCIQ</td>\n",
       "      <td>0</td>\n",
       "      <td>0.067942</td>\n",
       "    </tr>\n",
       "    <tr>\n",
       "      <th>123623</th>\n",
       "      <td>DUO6WXPQ</td>\n",
       "      <td>0</td>\n",
       "      <td>0.374318</td>\n",
       "    </tr>\n",
       "    <tr>\n",
       "      <th>237616</th>\n",
       "      <td>AUPKSWBZ</td>\n",
       "      <td>0</td>\n",
       "      <td>0.218569</td>\n",
       "    </tr>\n",
       "  </tbody>\n",
       "</table>\n",
       "</div>"
      ],
      "text/plain": [
       "              ID  Is_Lead      prob\n",
       "62674   ABZDBUYQ        1  0.622123\n",
       "94222   LCCNBMFC        0  0.213948\n",
       "30588   CFN6TCIQ        0  0.067942\n",
       "123623  DUO6WXPQ        0  0.374318\n",
       "237616  AUPKSWBZ        0  0.218569"
      ]
     },
     "execution_count": 79,
     "metadata": {},
     "output_type": "execute_result"
    }
   ],
   "source": [
    "## preparing the score file for itv data\n",
    "itv_score=itv[cust_id+target_var]\n",
    "itv_score[\"prob\"]=y_itv[:, 1]\n",
    "print(itv_score.shape)\n",
    "print(itv_score.isnull().sum().sum())\n",
    "itv_score.head()"
   ]
  },
  {
   "cell_type": "code",
   "execution_count": 80,
   "id": "1d215b57",
   "metadata": {},
   "outputs": [
    {
     "name": "stdout",
     "output_type": "stream",
     "text": [
      "(105312, 2)\n",
      "0\n"
     ]
    },
    {
     "name": "stderr",
     "output_type": "stream",
     "text": [
      "<ipython-input-80-107cee7ab5dc>:3: SettingWithCopyWarning: \n",
      "A value is trying to be set on a copy of a slice from a DataFrame.\n",
      "Try using .loc[row_indexer,col_indexer] = value instead\n",
      "\n",
      "See the caveats in the documentation: https://pandas.pydata.org/pandas-docs/stable/user_guide/indexing.html#returning-a-view-versus-a-copy\n",
      "  otv_score[\"prob\"]=y_otv[:, 1]\n"
     ]
    },
    {
     "data": {
      "text/html": [
       "<div>\n",
       "<style scoped>\n",
       "    .dataframe tbody tr th:only-of-type {\n",
       "        vertical-align: middle;\n",
       "    }\n",
       "\n",
       "    .dataframe tbody tr th {\n",
       "        vertical-align: top;\n",
       "    }\n",
       "\n",
       "    .dataframe thead th {\n",
       "        text-align: right;\n",
       "    }\n",
       "</style>\n",
       "<table border=\"1\" class=\"dataframe\">\n",
       "  <thead>\n",
       "    <tr style=\"text-align: right;\">\n",
       "      <th></th>\n",
       "      <th>ID</th>\n",
       "      <th>prob</th>\n",
       "    </tr>\n",
       "  </thead>\n",
       "  <tbody>\n",
       "    <tr>\n",
       "      <th>0</th>\n",
       "      <td>VBENBARO</td>\n",
       "      <td>0.155940</td>\n",
       "    </tr>\n",
       "    <tr>\n",
       "      <th>1</th>\n",
       "      <td>CCMEWNKY</td>\n",
       "      <td>0.587106</td>\n",
       "    </tr>\n",
       "    <tr>\n",
       "      <th>2</th>\n",
       "      <td>VK3KGA9M</td>\n",
       "      <td>0.069796</td>\n",
       "    </tr>\n",
       "    <tr>\n",
       "      <th>3</th>\n",
       "      <td>TT8RPZVC</td>\n",
       "      <td>0.071700</td>\n",
       "    </tr>\n",
       "    <tr>\n",
       "      <th>4</th>\n",
       "      <td>SHQZEYTZ</td>\n",
       "      <td>0.067082</td>\n",
       "    </tr>\n",
       "  </tbody>\n",
       "</table>\n",
       "</div>"
      ],
      "text/plain": [
       "         ID      prob\n",
       "0  VBENBARO  0.155940\n",
       "1  CCMEWNKY  0.587106\n",
       "2  VK3KGA9M  0.069796\n",
       "3  TT8RPZVC  0.071700\n",
       "4  SHQZEYTZ  0.067082"
      ]
     },
     "execution_count": 80,
     "metadata": {},
     "output_type": "execute_result"
    }
   ],
   "source": [
    "## preparing the score file for otv data\n",
    "otv_score=otv[cust_id]\n",
    "otv_score[\"prob\"]=y_otv[:, 1]\n",
    "print(otv_score.shape)\n",
    "print(otv_score.isnull().sum().sum())\n",
    "otv_score.head()"
   ]
  },
  {
   "cell_type": "code",
   "execution_count": 81,
   "id": "4115387c",
   "metadata": {},
   "outputs": [
    {
     "name": "stdout",
     "output_type": "stream",
     "text": [
      "0.8631764604693093\n",
      "0.8626188134262358\n"
     ]
    }
   ],
   "source": [
    "## getting aucroc\n",
    "print(roc_auc_score(dev_score[\"Is_Lead\"], dev_score[\"prob\"]))\n",
    "print(roc_auc_score(itv_score[\"Is_Lead\"], itv_score[\"prob\"]))"
   ]
  },
  {
   "cell_type": "code",
   "execution_count": 82,
   "id": "79b2a394",
   "metadata": {},
   "outputs": [
    {
     "name": "stdout",
     "output_type": "stream",
     "text": [
      "(105312, 2)\n"
     ]
    },
    {
     "data": {
      "text/html": [
       "<div>\n",
       "<style scoped>\n",
       "    .dataframe tbody tr th:only-of-type {\n",
       "        vertical-align: middle;\n",
       "    }\n",
       "\n",
       "    .dataframe tbody tr th {\n",
       "        vertical-align: top;\n",
       "    }\n",
       "\n",
       "    .dataframe thead th {\n",
       "        text-align: right;\n",
       "    }\n",
       "</style>\n",
       "<table border=\"1\" class=\"dataframe\">\n",
       "  <thead>\n",
       "    <tr style=\"text-align: right;\">\n",
       "      <th></th>\n",
       "      <th>ID</th>\n",
       "      <th>Is_Lead</th>\n",
       "    </tr>\n",
       "  </thead>\n",
       "  <tbody>\n",
       "    <tr>\n",
       "      <th>0</th>\n",
       "      <td>VBENBARO</td>\n",
       "      <td>0.155940</td>\n",
       "    </tr>\n",
       "    <tr>\n",
       "      <th>1</th>\n",
       "      <td>CCMEWNKY</td>\n",
       "      <td>0.587106</td>\n",
       "    </tr>\n",
       "    <tr>\n",
       "      <th>2</th>\n",
       "      <td>VK3KGA9M</td>\n",
       "      <td>0.069796</td>\n",
       "    </tr>\n",
       "    <tr>\n",
       "      <th>3</th>\n",
       "      <td>TT8RPZVC</td>\n",
       "      <td>0.071700</td>\n",
       "    </tr>\n",
       "    <tr>\n",
       "      <th>4</th>\n",
       "      <td>SHQZEYTZ</td>\n",
       "      <td>0.067082</td>\n",
       "    </tr>\n",
       "  </tbody>\n",
       "</table>\n",
       "</div>"
      ],
      "text/plain": [
       "         ID   Is_Lead\n",
       "0  VBENBARO  0.155940\n",
       "1  CCMEWNKY  0.587106\n",
       "2  VK3KGA9M  0.069796\n",
       "3  TT8RPZVC  0.071700\n",
       "4  SHQZEYTZ  0.067082"
      ]
     },
     "execution_count": 82,
     "metadata": {},
     "output_type": "execute_result"
    }
   ],
   "source": [
    "## preparing the final otv scored file\n",
    "otv_score=otv_score.reset_index()\n",
    "otv_score2=otv_score.drop([\"index\"],axis=1)\n",
    "otv_score2=otv_score2.rename({\"prob\":\"Is_Lead\"},axis=1)\n",
    "print(otv_score2.shape)\n",
    "otv_score2.head()"
   ]
  },
  {
   "cell_type": "code",
   "execution_count": 83,
   "id": "bea08eff",
   "metadata": {},
   "outputs": [],
   "source": [
    "#otv_score2.to_csv(\"RF_otv_score_v1.csv\",index=False)"
   ]
  },
  {
   "cell_type": "markdown",
   "id": "9b7427db",
   "metadata": {},
   "source": [
    "## Building XGBoost Model"
   ]
  },
  {
   "cell_type": "code",
   "execution_count": 84,
   "id": "95b49f79",
   "metadata": {},
   "outputs": [],
   "source": [
    "## creating dataset in dmatrix format for input into xgboost\n",
    "dtrain_grid=xgb.DMatrix(df3[variable_grid],label=df3[target_var].values)\n",
    "ddev_grid=xgb.DMatrix(dev[variable_grid],label=dev[target_var].values)\n",
    "ditv_grid=xgb.DMatrix(itv[variable_grid],label=itv[target_var].values)\n",
    "dotv_grid=xgb.DMatrix(otv[variable_grid])"
   ]
  },
  {
   "cell_type": "code",
   "execution_count": 85,
   "id": "19d1de7c",
   "metadata": {},
   "outputs": [
    {
     "data": {
      "text/plain": [
       "3.2454092210484746"
      ]
     },
     "execution_count": 85,
     "metadata": {},
     "output_type": "execute_result"
    }
   ],
   "source": [
    "## defining the ratio of non event to evnt\n",
    "ratio=dev[target_var].value_counts()[0]/dev[target_var].value_counts()[1]\n",
    "ratio"
   ]
  },
  {
   "cell_type": "code",
   "execution_count": 86,
   "id": "8269bea7",
   "metadata": {},
   "outputs": [],
   "source": [
    "## defining Parameter Grid\n",
    "default_param_grid={\n",
    "                    'gamma' : [0,1,10],\n",
    "                    'learning_rate':[0.01,0.05,0.1],\n",
    "                    'max_depth':[2,3,4],\n",
    "                    'subsample':[0.6,0.8,1.0],\n",
    "                    'colsample_by_tree':[0.6,0.8,1.0],\n",
    "                    'num_boost_round' : [500],\n",
    "                    'eval_metric' : ['aucpr','logloss'],\n",
    "                    'scale_pos_weight': [1,np.sqrt(ratio)]\n",
    "}"
   ]
  },
  {
   "cell_type": "code",
   "execution_count": 87,
   "id": "30c9d4cb",
   "metadata": {},
   "outputs": [
    {
     "name": "stdout",
     "output_type": "stream",
     "text": [
      "(972, 8)\n"
     ]
    }
   ],
   "source": [
    "params_df=list(ParameterGrid(default_param_grid))\n",
    "params_df=pd.DataFrame(params_df)\n",
    "print(params_df.shape)"
   ]
  },
  {
   "cell_type": "code",
   "execution_count": 88,
   "id": "7faf2dbe",
   "metadata": {},
   "outputs": [],
   "source": [
    "## Defining Evaluation set\n",
    "eval_set=[(ddev_grid,\"Dev\"),(ditv_grid,\"validation\")]"
   ]
  },
  {
   "cell_type": "code",
   "execution_count": 89,
   "id": "4ac1e292",
   "metadata": {},
   "outputs": [
    {
     "data": {
      "text/html": [
       "<div>\n",
       "<style scoped>\n",
       "    .dataframe tbody tr th:only-of-type {\n",
       "        vertical-align: middle;\n",
       "    }\n",
       "\n",
       "    .dataframe tbody tr th {\n",
       "        vertical-align: top;\n",
       "    }\n",
       "\n",
       "    .dataframe thead th {\n",
       "        text-align: right;\n",
       "    }\n",
       "</style>\n",
       "<table border=\"1\" class=\"dataframe\">\n",
       "  <thead>\n",
       "    <tr style=\"text-align: right;\">\n",
       "      <th></th>\n",
       "      <th>gamma</th>\n",
       "      <th>learning_rate</th>\n",
       "      <th>max_depth</th>\n",
       "      <th>subsample</th>\n",
       "      <th>colsample_by_tree</th>\n",
       "      <th>best_num_trees</th>\n",
       "      <th>scale_pos_weight</th>\n",
       "      <th>auc_dev</th>\n",
       "      <th>auc_itv</th>\n",
       "    </tr>\n",
       "  </thead>\n",
       "  <tbody>\n",
       "  </tbody>\n",
       "</table>\n",
       "</div>"
      ],
      "text/plain": [
       "Empty DataFrame\n",
       "Columns: [gamma, learning_rate, max_depth, subsample, colsample_by_tree, best_num_trees, scale_pos_weight, auc_dev, auc_itv]\n",
       "Index: []"
      ]
     },
     "execution_count": 89,
     "metadata": {},
     "output_type": "execute_result"
    }
   ],
   "source": [
    "col_names=[\"gamma\",\"learning_rate\",\"max_depth\",\"subsample\",\"colsample_by_tree\",\"best_num_trees\",\"scale_pos_weight\",'auc_dev',\"auc_itv\"]\n",
    "grid_search=pd.DataFrame(columns=col_names)\n",
    "grid_search"
   ]
  },
  {
   "cell_type": "code",
   "execution_count": 90,
   "id": "1dcf28b3",
   "metadata": {},
   "outputs": [],
   "source": [
    "# ## running the grid serach\n",
    "# for i in range(len(params_df)):\n",
    "#     print(i)\n",
    "    \n",
    "#     model_grid=xgb.train({\n",
    "#         'learning_rate':params_df[\"learning_rate\"].iloc[i],\n",
    "#         'booster':'gbtree',\n",
    "#         'objective':'binary:logistic',\n",
    "#         'max_depth':params_df[\"max_depth\"].iloc[i],\n",
    "#         'gamma':params_df[\"gamma\"].iloc[i],\n",
    "#         'eval_metric':params_df[\"eval_metric\"].iloc[i],\n",
    "#         'scale_pos_weight':params_df[\"scale_pos_weight\"].iloc[i],\n",
    "#         'seed':1,\n",
    "#         'verbose':False,\n",
    "#         'subsample':params_df[\"subsample\"].iloc[i],\n",
    "#         'colsample_by_tree':params_df[\"colsample_by_tree\"].iloc[i],\n",
    "#         },dtrain=ddev_grid,num_boost_round=params_df[\"num_boost_round\"].iloc[i],\n",
    "#          early_stopping_rounds=50, evals=eval_set, verbose_eval=False)\n",
    "    \n",
    "#     prob_train=model_grid.predict(ddev_grid,ntree_limit=model_grid.best_ntree_limit)\n",
    "#     auc_dev=roc_auc_score(dev[target_var].iloc[:,0], prob_train)\n",
    "    \n",
    "#     prob_itv=model_grid.predict(ditv_grid,ntree_limit=model_grid.best_ntree_limit)\n",
    "#     auc_itv=roc_auc_score(itv[target_var].iloc[:,0], prob_itv)\n",
    "    \n",
    "#     grid_search.loc[len(grid_search)] = [params_df['gamma'].iloc[i],params_df['learning_rate'].iloc[i],\n",
    "#                                         params_df['max_depth'].iloc[i],params_df['subsample'].iloc[i],\n",
    "#                                         params_df['colsample_by_tree'].iloc[i],model_grid.best_ntree_limit,\n",
    "#                                         params_df['scale_pos_weight'].iloc[i],auc_dev,auc_itv]\n",
    "#     #pd.DataFrame(grid_search).to_csv(\"grid_search_output_v2.csv\")"
   ]
  },
  {
   "cell_type": "code",
   "execution_count": 91,
   "id": "d4a2f251",
   "metadata": {},
   "outputs": [],
   "source": [
    "# ## checking the grid search output\n",
    "# grid_search_output_v1=pd.read_csv(\"grid_search_output_v2.csv\")\n",
    "# print(grid_search_output_v1.shape)\n",
    "# grid_search_output_v1"
   ]
  },
  {
   "cell_type": "code",
   "execution_count": 92,
   "id": "bcf951be",
   "metadata": {},
   "outputs": [],
   "source": [
    "#otv_score2.to_csv(\"XGB_otv_score_v1.csv\",index=False)"
   ]
  },
  {
   "cell_type": "code",
   "execution_count": 93,
   "id": "be5f0a00",
   "metadata": {},
   "outputs": [],
   "source": [
    "#otv_score2.to_csv(\"XGB_otv_score_v2.csv\",index=False)"
   ]
  },
  {
   "cell_type": "code",
   "execution_count": 94,
   "id": "4b4a156c",
   "metadata": {},
   "outputs": [],
   "source": [
    "#otv_score2.to_csv(\"XGB_otv_score_v3.csv\",index=False)\n",
    "#otv_score2.to_csv(\"XGB_otv_score_v4.csv\",index=False)"
   ]
  },
  {
   "cell_type": "markdown",
   "id": "88f537ae",
   "metadata": {},
   "source": [
    "## running another grid search"
   ]
  },
  {
   "cell_type": "code",
   "execution_count": 95,
   "id": "a5f4fe60",
   "metadata": {},
   "outputs": [
    {
     "name": "stdout",
     "output_type": "stream",
     "text": [
      "(108, 8)\n"
     ]
    },
    {
     "data": {
      "text/html": [
       "<div>\n",
       "<style scoped>\n",
       "    .dataframe tbody tr th:only-of-type {\n",
       "        vertical-align: middle;\n",
       "    }\n",
       "\n",
       "    .dataframe tbody tr th {\n",
       "        vertical-align: top;\n",
       "    }\n",
       "\n",
       "    .dataframe thead th {\n",
       "        text-align: right;\n",
       "    }\n",
       "</style>\n",
       "<table border=\"1\" class=\"dataframe\">\n",
       "  <thead>\n",
       "    <tr style=\"text-align: right;\">\n",
       "      <th></th>\n",
       "      <th>gamma</th>\n",
       "      <th>learning_rate</th>\n",
       "      <th>max_depth</th>\n",
       "      <th>subsample</th>\n",
       "      <th>eval_metric</th>\n",
       "      <th>seed</th>\n",
       "      <th>best_num_trees</th>\n",
       "      <th>scale_pos_weight</th>\n",
       "      <th>auc_dev</th>\n",
       "      <th>auc_itv</th>\n",
       "    </tr>\n",
       "  </thead>\n",
       "  <tbody>\n",
       "  </tbody>\n",
       "</table>\n",
       "</div>"
      ],
      "text/plain": [
       "Empty DataFrame\n",
       "Columns: [gamma, learning_rate, max_depth, subsample, eval_metric, seed, best_num_trees, scale_pos_weight, auc_dev, auc_itv]\n",
       "Index: []"
      ]
     },
     "execution_count": 95,
     "metadata": {},
     "output_type": "execute_result"
    }
   ],
   "source": [
    "## defining Parameter Grid\n",
    "default_param_grid={\n",
    "                    'gamma' : [0.1,1,5],\n",
    "                    'learning_rate':[0.05],\n",
    "                    'max_depth':[4,5,6],\n",
    "                    'subsample':[0.8],\n",
    "                    'num_boost_round' : [500],\n",
    "                    'eval_metric' : ['aucpr','logloss'],\n",
    "                    'scale_pos_weight': [1,np.sqrt(ratio)],\n",
    "                    'seed':[5,10,49]\n",
    "}\n",
    "\n",
    "params_df=list(ParameterGrid(default_param_grid))\n",
    "params_df=pd.DataFrame(params_df)\n",
    "print(params_df.shape)\n",
    "\n",
    "col_names=[\"gamma\",\"learning_rate\",\"max_depth\",\"subsample\",\"eval_metric\",\"seed\",\"best_num_trees\",\"scale_pos_weight\",'auc_dev',\"auc_itv\"]\n",
    "grid_search=pd.DataFrame(columns=col_names)\n",
    "grid_search"
   ]
  },
  {
   "cell_type": "code",
   "execution_count": 96,
   "id": "6e226cc1",
   "metadata": {},
   "outputs": [],
   "source": [
    "# for i in range(len(params_df)):\n",
    "#     print(i)\n",
    "    \n",
    "#     model_grid=xgb.train({\n",
    "#         'learning_rate':params_df[\"learning_rate\"].iloc[i],\n",
    "#         'booster':'gbtree',\n",
    "#         'objective':'binary:logistic',\n",
    "#         'max_depth':params_df[\"max_depth\"].iloc[i],\n",
    "#         'gamma':params_df[\"gamma\"].iloc[i],\n",
    "#         'eval_metric':params_df[\"eval_metric\"].iloc[i],\n",
    "#         'scale_pos_weight':params_df[\"scale_pos_weight\"].iloc[i],\n",
    "#         'seed':params_df[\"seed\"].iloc[i],\n",
    "#         'verbose':False,\n",
    "#         'subsample':params_df[\"subsample\"].iloc[i],\n",
    "#         },dtrain=ddev_grid,num_boost_round=params_df[\"num_boost_round\"].iloc[i],\n",
    "#          early_stopping_rounds=50, evals=eval_set, verbose_eval=False)\n",
    "    \n",
    "#     prob_train=model_grid.predict(ddev_grid,ntree_limit=model_grid.best_ntree_limit)\n",
    "#     auc_dev=roc_auc_score(dev[target_var].iloc[:,0], prob_train)\n",
    "    \n",
    "#     prob_itv=model_grid.predict(ditv_grid,ntree_limit=model_grid.best_ntree_limit)\n",
    "#     auc_itv=roc_auc_score(itv[target_var].iloc[:,0], prob_itv)\n",
    "    \n",
    "#     grid_search.loc[len(grid_search)] = [params_df['gamma'].iloc[i],params_df['learning_rate'].iloc[i],\n",
    "#                                         params_df['max_depth'].iloc[i],params_df['subsample'].iloc[i],\n",
    "#                                         params_df['eval_metric'].iloc[i],params_df['seed'].iloc[i],\n",
    "#                                         model_grid.best_ntree_limit,params_df['scale_pos_weight'].iloc[i],\n",
    "#                                         auc_dev,auc_itv]\n",
    "#     pd.DataFrame(grid_search).to_csv(\"grid_search_output_v3.csv\")"
   ]
  },
  {
   "cell_type": "code",
   "execution_count": 97,
   "id": "2e3450ed",
   "metadata": {},
   "outputs": [],
   "source": [
    "#otv_score2.to_csv(\"XGB_otv_score_v5.csv\",index=False)\n",
    "#otv_score2.to_csv(\"XGB_otv_score_v6.csv\",index=False)"
   ]
  },
  {
   "cell_type": "code",
   "execution_count": 98,
   "id": "804fc7e8",
   "metadata": {},
   "outputs": [],
   "source": [
    "#otv_score2.to_csv(\"XGB_otv_score_v7.csv\",index=False)"
   ]
  },
  {
   "cell_type": "code",
   "execution_count": 99,
   "id": "21250aee",
   "metadata": {},
   "outputs": [
    {
     "name": "stdout",
     "output_type": "stream",
     "text": [
      "[00:43:43] WARNING: /opt/concourse/worker/volumes/live/7a2b9f41-3287-451b-6691-43e9a6c0910f/volume/xgboost-split_1619728204606/work/src/learner.cc:541: \n",
      "Parameters: { colsample_by_tree } might not be used.\n",
      "\n",
      "  This may not be accurate due to some parameters are only used in language bindings but\n",
      "  passed down to XGBoost core.  Or some parameters are not used but slip through this\n",
      "  verification. Please open an issue if you find above cases.\n",
      "\n",
      "\n",
      "[00:43:43] WARNING: /opt/concourse/worker/volumes/live/7a2b9f41-3287-451b-6691-43e9a6c0910f/volume/xgboost-split_1619728204606/work/src/learner.cc:1061: Starting in XGBoost 1.3.0, the default evaluation metric used with the objective 'binary:logistic' was changed from 'error' to 'logloss'. Explicitly set eval_metric if you'd like to restore the old behavior.\n"
     ]
    }
   ],
   "source": [
    "## based on grid search following is the best hyperparameter value\n",
    "## Training on 100% of training data\n",
    "model_v6=xgb.train({'learning_rate':0.05,\n",
    "                'booster':'gbtree',\n",
    "                'objective':'binary:logistic',\n",
    "                'max_depth': 7,\n",
    "                'seed': 155,\n",
    "                'colsample_by_tree':0.8,\n",
    "                #'verbose': False,\n",
    "                'subsample': 0.8,\n",
    "#                 'scale_pos_weight':0.9,\n",
    "                'gamma' : 0.01} , dtrain=dtrain_grid, num_boost_round=238)"
   ]
  },
  {
   "cell_type": "code",
   "execution_count": 100,
   "id": "19b2e906",
   "metadata": {},
   "outputs": [],
   "source": [
    "## doing prediction\n",
    "\n",
    "## for 100% traing data\n",
    "prob_train=model_v6.predict(dtrain_grid)\n",
    "\n",
    "## for otv\n",
    "prob_otv=model_v6.predict(dotv_grid)"
   ]
  },
  {
   "cell_type": "code",
   "execution_count": 101,
   "id": "8ee4a9e1",
   "metadata": {},
   "outputs": [
    {
     "name": "stdout",
     "output_type": "stream",
     "text": [
      "(245725, 3)\n",
      "0\n"
     ]
    },
    {
     "name": "stderr",
     "output_type": "stream",
     "text": [
      "<ipython-input-101-280d415d6765>:3: SettingWithCopyWarning: \n",
      "A value is trying to be set on a copy of a slice from a DataFrame.\n",
      "Try using .loc[row_indexer,col_indexer] = value instead\n",
      "\n",
      "See the caveats in the documentation: https://pandas.pydata.org/pandas-docs/stable/user_guide/indexing.html#returning-a-view-versus-a-copy\n",
      "  train_score[\"prob\"]=prob_train\n"
     ]
    },
    {
     "data": {
      "text/html": [
       "<div>\n",
       "<style scoped>\n",
       "    .dataframe tbody tr th:only-of-type {\n",
       "        vertical-align: middle;\n",
       "    }\n",
       "\n",
       "    .dataframe tbody tr th {\n",
       "        vertical-align: top;\n",
       "    }\n",
       "\n",
       "    .dataframe thead th {\n",
       "        text-align: right;\n",
       "    }\n",
       "</style>\n",
       "<table border=\"1\" class=\"dataframe\">\n",
       "  <thead>\n",
       "    <tr style=\"text-align: right;\">\n",
       "      <th></th>\n",
       "      <th>ID</th>\n",
       "      <th>Is_Lead</th>\n",
       "      <th>prob</th>\n",
       "    </tr>\n",
       "  </thead>\n",
       "  <tbody>\n",
       "    <tr>\n",
       "      <th>0</th>\n",
       "      <td>NNVBBKZB</td>\n",
       "      <td>0</td>\n",
       "      <td>0.042151</td>\n",
       "    </tr>\n",
       "    <tr>\n",
       "      <th>1</th>\n",
       "      <td>IDD62UNG</td>\n",
       "      <td>0</td>\n",
       "      <td>0.055829</td>\n",
       "    </tr>\n",
       "    <tr>\n",
       "      <th>2</th>\n",
       "      <td>HD3DSEMC</td>\n",
       "      <td>0</td>\n",
       "      <td>0.066950</td>\n",
       "    </tr>\n",
       "    <tr>\n",
       "      <th>3</th>\n",
       "      <td>BF3NC7KV</td>\n",
       "      <td>0</td>\n",
       "      <td>0.045926</td>\n",
       "    </tr>\n",
       "    <tr>\n",
       "      <th>4</th>\n",
       "      <td>TEASRWXV</td>\n",
       "      <td>0</td>\n",
       "      <td>0.045889</td>\n",
       "    </tr>\n",
       "  </tbody>\n",
       "</table>\n",
       "</div>"
      ],
      "text/plain": [
       "         ID  Is_Lead      prob\n",
       "0  NNVBBKZB        0  0.042151\n",
       "1  IDD62UNG        0  0.055829\n",
       "2  HD3DSEMC        0  0.066950\n",
       "3  BF3NC7KV        0  0.045926\n",
       "4  TEASRWXV        0  0.045889"
      ]
     },
     "execution_count": 101,
     "metadata": {},
     "output_type": "execute_result"
    }
   ],
   "source": [
    "## preparing the score file for dev data\n",
    "train_score=df3[cust_id+target_var]\n",
    "train_score[\"prob\"]=prob_train\n",
    "print(train_score.shape)\n",
    "print(train_score.isnull().sum().sum())\n",
    "train_score.head()"
   ]
  },
  {
   "cell_type": "code",
   "execution_count": 102,
   "id": "9d6a8498",
   "metadata": {},
   "outputs": [
    {
     "name": "stdout",
     "output_type": "stream",
     "text": [
      "(105312, 2)\n",
      "0\n"
     ]
    },
    {
     "name": "stderr",
     "output_type": "stream",
     "text": [
      "<ipython-input-102-ea3e5cda2238>:3: SettingWithCopyWarning: \n",
      "A value is trying to be set on a copy of a slice from a DataFrame.\n",
      "Try using .loc[row_indexer,col_indexer] = value instead\n",
      "\n",
      "See the caveats in the documentation: https://pandas.pydata.org/pandas-docs/stable/user_guide/indexing.html#returning-a-view-versus-a-copy\n",
      "  otv_score[\"prob\"]=prob_otv\n"
     ]
    },
    {
     "data": {
      "text/html": [
       "<div>\n",
       "<style scoped>\n",
       "    .dataframe tbody tr th:only-of-type {\n",
       "        vertical-align: middle;\n",
       "    }\n",
       "\n",
       "    .dataframe tbody tr th {\n",
       "        vertical-align: top;\n",
       "    }\n",
       "\n",
       "    .dataframe thead th {\n",
       "        text-align: right;\n",
       "    }\n",
       "</style>\n",
       "<table border=\"1\" class=\"dataframe\">\n",
       "  <thead>\n",
       "    <tr style=\"text-align: right;\">\n",
       "      <th></th>\n",
       "      <th>ID</th>\n",
       "      <th>prob</th>\n",
       "    </tr>\n",
       "  </thead>\n",
       "  <tbody>\n",
       "    <tr>\n",
       "      <th>0</th>\n",
       "      <td>VBENBARO</td>\n",
       "      <td>0.028059</td>\n",
       "    </tr>\n",
       "    <tr>\n",
       "      <th>1</th>\n",
       "      <td>CCMEWNKY</td>\n",
       "      <td>0.878527</td>\n",
       "    </tr>\n",
       "    <tr>\n",
       "      <th>2</th>\n",
       "      <td>VK3KGA9M</td>\n",
       "      <td>0.079364</td>\n",
       "    </tr>\n",
       "    <tr>\n",
       "      <th>3</th>\n",
       "      <td>TT8RPZVC</td>\n",
       "      <td>0.023243</td>\n",
       "    </tr>\n",
       "    <tr>\n",
       "      <th>4</th>\n",
       "      <td>SHQZEYTZ</td>\n",
       "      <td>0.021169</td>\n",
       "    </tr>\n",
       "  </tbody>\n",
       "</table>\n",
       "</div>"
      ],
      "text/plain": [
       "         ID      prob\n",
       "0  VBENBARO  0.028059\n",
       "1  CCMEWNKY  0.878527\n",
       "2  VK3KGA9M  0.079364\n",
       "3  TT8RPZVC  0.023243\n",
       "4  SHQZEYTZ  0.021169"
      ]
     },
     "execution_count": 102,
     "metadata": {},
     "output_type": "execute_result"
    }
   ],
   "source": [
    "## preparing the score file for otv data\n",
    "otv_score=otv[cust_id]\n",
    "otv_score[\"prob\"]=prob_otv\n",
    "print(otv_score.shape)\n",
    "print(otv_score.isnull().sum().sum())\n",
    "otv_score.head()"
   ]
  },
  {
   "cell_type": "code",
   "execution_count": 103,
   "id": "cc42b34c",
   "metadata": {},
   "outputs": [
    {
     "name": "stdout",
     "output_type": "stream",
     "text": [
      "0.8901051364018673\n"
     ]
    }
   ],
   "source": [
    "## getting aucroc\n",
    "print(roc_auc_score(train_score[\"Is_Lead\"], train_score[\"prob\"]))"
   ]
  },
  {
   "cell_type": "code",
   "execution_count": 104,
   "id": "9fb6f30e",
   "metadata": {},
   "outputs": [
    {
     "name": "stdout",
     "output_type": "stream",
     "text": [
      "(105312, 2)\n"
     ]
    },
    {
     "data": {
      "text/html": [
       "<div>\n",
       "<style scoped>\n",
       "    .dataframe tbody tr th:only-of-type {\n",
       "        vertical-align: middle;\n",
       "    }\n",
       "\n",
       "    .dataframe tbody tr th {\n",
       "        vertical-align: top;\n",
       "    }\n",
       "\n",
       "    .dataframe thead th {\n",
       "        text-align: right;\n",
       "    }\n",
       "</style>\n",
       "<table border=\"1\" class=\"dataframe\">\n",
       "  <thead>\n",
       "    <tr style=\"text-align: right;\">\n",
       "      <th></th>\n",
       "      <th>ID</th>\n",
       "      <th>Is_Lead</th>\n",
       "    </tr>\n",
       "  </thead>\n",
       "  <tbody>\n",
       "    <tr>\n",
       "      <th>0</th>\n",
       "      <td>VBENBARO</td>\n",
       "      <td>0.028059</td>\n",
       "    </tr>\n",
       "    <tr>\n",
       "      <th>1</th>\n",
       "      <td>CCMEWNKY</td>\n",
       "      <td>0.878527</td>\n",
       "    </tr>\n",
       "    <tr>\n",
       "      <th>2</th>\n",
       "      <td>VK3KGA9M</td>\n",
       "      <td>0.079364</td>\n",
       "    </tr>\n",
       "    <tr>\n",
       "      <th>3</th>\n",
       "      <td>TT8RPZVC</td>\n",
       "      <td>0.023243</td>\n",
       "    </tr>\n",
       "    <tr>\n",
       "      <th>4</th>\n",
       "      <td>SHQZEYTZ</td>\n",
       "      <td>0.021169</td>\n",
       "    </tr>\n",
       "  </tbody>\n",
       "</table>\n",
       "</div>"
      ],
      "text/plain": [
       "         ID   Is_Lead\n",
       "0  VBENBARO  0.028059\n",
       "1  CCMEWNKY  0.878527\n",
       "2  VK3KGA9M  0.079364\n",
       "3  TT8RPZVC  0.023243\n",
       "4  SHQZEYTZ  0.021169"
      ]
     },
     "execution_count": 104,
     "metadata": {},
     "output_type": "execute_result"
    }
   ],
   "source": [
    "otv_score=otv_score.reset_index()\n",
    "otv_score2=otv_score.drop([\"index\"],axis=1)\n",
    "otv_score2=otv_score2.rename({\"prob\":\"Is_Lead\"},axis=1)\n",
    "print(otv_score2.shape)\n",
    "otv_score2.head()"
   ]
  },
  {
   "cell_type": "code",
   "execution_count": 105,
   "id": "25bb3c5d",
   "metadata": {},
   "outputs": [],
   "source": [
    "otv_score2.to_csv(\"XGB_otv_score_final.csv\",index=False)"
   ]
  },
  {
   "cell_type": "markdown",
   "id": "d2a0f3ab",
   "metadata": {},
   "source": [
    "## other performance metrices"
   ]
  },
  {
   "cell_type": "code",
   "execution_count": 107,
   "id": "9b08f658",
   "metadata": {},
   "outputs": [
    {
     "data": {
      "text/plain": [
       "0.8901051364018673"
      ]
     },
     "execution_count": 107,
     "metadata": {},
     "output_type": "execute_result"
    }
   ],
   "source": [
    "fpr, tpr, threshold = metrics.roc_curve(train_score[\"Is_Lead\"], train_score[\"prob\"])\n",
    "roc_auc = metrics.auc(fpr, tpr)\n",
    "roc_auc"
   ]
  },
  {
   "cell_type": "code",
   "execution_count": 108,
   "id": "42b951df",
   "metadata": {},
   "outputs": [
    {
     "data": {
      "image/png": "[encoded data removed]",
      "text/plain": [
       "<Figure size 432x288 with 1 Axes>"
      ]
     },
     "metadata": {
      "needs_background": "light"
     },
     "output_type": "display_data"
    }
   ],
   "source": [
    "# method I: plt\n",
    "plt.title('Receiver Operating Characteristic')\n",
    "plt.plot(fpr, tpr, 'b', label = 'AUC = %0.2f' % roc_auc)\n",
    "plt.legend(loc = 'lower right')\n",
    "plt.plot([0, 1], [0, 1],'r--')\n",
    "plt.xlim([0, 1])\n",
    "plt.ylim([0, 1])\n",
    "plt.ylabel('True Positive Rate')\n",
    "plt.xlabel('False Positive Rate')\n",
    "plt.show()"
   ]
  },
  {
   "cell_type": "code",
   "execution_count": 109,
   "id": "8efee886",
   "metadata": {},
   "outputs": [],
   "source": [
    "def KS_table(Y,Y_HAT):\n",
    "    import pandas as pd\n",
    "    INPUT = pd.DataFrame({'Y': Y ,'Y_HAT':Y_HAT})\n",
    "    INPUT['GROUP SCORE'] = pd.qcut(INPUT['Y_HAT'],10,duplicates = 'drop')\n",
    "   \n",
    "    KS_TABLE = INPUT.groupby('GROUP SCORE')['Y_HAT'].agg(['min','max','mean','count']).reset_index().sort_values('GROUP SCORE',ascending = False)\n",
    "    KS_TABLE.columns = ['GROUP SCORE', 'MIN SCORE','MAX SCORE', 'mean_score', 'TOTAL COUNT']\n",
    "    KS_TABLE['% TOTAL COUNT'] = (100*KS_TABLE['TOTAL COUNT']/sum(KS_TABLE['TOTAL COUNT'])).round(2)\n",
    "   \n",
    "    temp = INPUT.groupby('GROUP SCORE')['Y'].agg('sum').reset_index().sort_values('GROUP SCORE', ascending = False)\n",
    "    temp.columns = ['GROUP SCORE','RESPONDERS']\n",
    "   \n",
    "    KS_TABLE = KS_TABLE.merge(temp, on = 'GROUP SCORE' , how = 'inner')\n",
    "    KS_TABLE['NON RESPONDERS'] = KS_TABLE['TOTAL COUNT'] - KS_TABLE['RESPONDERS']\n",
    "    KS_TABLE['RESPONSE RATE (%)'] = (100*KS_TABLE['RESPONDERS']/KS_TABLE['TOTAL COUNT']).round(2)\n",
    "   \n",
    "    KS_TABLE['CUM TOTAL COUNT'] = KS_TABLE['TOTAL COUNT'].cumsum()\n",
    "    KS_TABLE['CUM RESPONDERS'] = KS_TABLE['RESPONDERS'].cumsum()\n",
    "    KS_TABLE['CUM NON RESPONDERS'] = KS_TABLE['NON RESPONDERS'].cumsum()\n",
    "   \n",
    "    KS_TABLE['CUM % TOTAL COUNT'] = (100*KS_TABLE['CUM TOTAL COUNT']/sum(KS_TABLE['TOTAL COUNT'])).round(2)\n",
    "    KS_TABLE['CUM % RESPONDERS'] = (100*KS_TABLE['CUM RESPONDERS']/sum(KS_TABLE['RESPONDERS'])).round(2)\n",
    "    KS_TABLE['CUM % NON RESPONDERS'] = (100*KS_TABLE['CUM NON RESPONDERS']/sum(KS_TABLE['NON RESPONDERS'])).round(2)\n",
    "                                       \n",
    "    KS_TABLE['KS'] = KS_TABLE['CUM % RESPONDERS'] - KS_TABLE['CUM % NON RESPONDERS']\n",
    "    KS_TABLE['LIFT'] = (1.0*KS_TABLE['CUM % RESPONDERS']/KS_TABLE['CUM % TOTAL COUNT']).round(2)\n",
    "    KS_TABLE['abs_perc'] = abs(KS_TABLE['mean_score'] - KS_TABLE['RESPONSE RATE (%)']/100)*100\n",
    "                                       \n",
    "    ks =  round(max(KS_TABLE['KS']),2)\n",
    "    decile = np.argmax(KS_TABLE['CUM % RESPONDERS'] - KS_TABLE['CUM % NON RESPONDERS']) + 1\n",
    "    print('KS =' + str(ks) + \" at decile = \" + str(decile))\n",
    "                                       \n",
    "    diff  = (KS_TABLE['RESPONSE RATE (%)'] - KS_TABLE['RESPONSE RATE (%)'].shift(-1))[:-1]\n",
    "    breaks = [str(i+1) for i , value in enumerate(diff) if value<0]\n",
    "    if len(breaks) == 0:\n",
    "        print(' There are no rank order breaks')\n",
    "    else:\n",
    "        print('There are rank order break(s) at decile(s)' + ','.join(breaks))\n",
    "                                       \n",
    "    return KS_TABLE"
   ]
  },
  {
   "cell_type": "code",
   "execution_count": 110,
   "id": "8b7d55c3",
   "metadata": {},
   "outputs": [
    {
     "name": "stdout",
     "output_type": "stream",
     "text": [
      "KS =62.74 at decile = 3\n",
      " There are no rank order breaks\n"
     ]
    },
    {
     "data": {
      "text/html": [
       "<div>\n",
       "<style scoped>\n",
       "    .dataframe tbody tr th:only-of-type {\n",
       "        vertical-align: middle;\n",
       "    }\n",
       "\n",
       "    .dataframe tbody tr th {\n",
       "        vertical-align: top;\n",
       "    }\n",
       "\n",
       "    .dataframe thead th {\n",
       "        text-align: right;\n",
       "    }\n",
       "</style>\n",
       "<table border=\"1\" class=\"dataframe\">\n",
       "  <thead>\n",
       "    <tr style=\"text-align: right;\">\n",
       "      <th></th>\n",
       "      <th>GROUP SCORE</th>\n",
       "      <th>MIN SCORE</th>\n",
       "      <th>MAX SCORE</th>\n",
       "      <th>mean_score</th>\n",
       "      <th>TOTAL COUNT</th>\n",
       "      <th>% TOTAL COUNT</th>\n",
       "      <th>RESPONDERS</th>\n",
       "      <th>NON RESPONDERS</th>\n",
       "      <th>RESPONSE RATE (%)</th>\n",
       "      <th>CUM TOTAL COUNT</th>\n",
       "      <th>CUM RESPONDERS</th>\n",
       "      <th>CUM NON RESPONDERS</th>\n",
       "      <th>CUM % TOTAL COUNT</th>\n",
       "      <th>CUM % RESPONDERS</th>\n",
       "      <th>CUM % NON RESPONDERS</th>\n",
       "      <th>KS</th>\n",
       "      <th>LIFT</th>\n",
       "      <th>abs_perc</th>\n",
       "    </tr>\n",
       "  </thead>\n",
       "  <tbody>\n",
       "    <tr>\n",
       "      <th>0</th>\n",
       "      <td>(0.826, 0.999]</td>\n",
       "      <td>0.825961</td>\n",
       "      <td>0.998716</td>\n",
       "      <td>0.881684</td>\n",
       "      <td>24573</td>\n",
       "      <td>10.0</td>\n",
       "      <td>22370</td>\n",
       "      <td>2203</td>\n",
       "      <td>91.03</td>\n",
       "      <td>24573</td>\n",
       "      <td>22370</td>\n",
       "      <td>2203</td>\n",
       "      <td>10.0</td>\n",
       "      <td>38.38</td>\n",
       "      <td>1.18</td>\n",
       "      <td>37.20</td>\n",
       "      <td>3.84</td>\n",
       "      <td>2.861647</td>\n",
       "    </tr>\n",
       "    <tr>\n",
       "      <th>1</th>\n",
       "      <td>(0.433, 0.826]</td>\n",
       "      <td>0.432945</td>\n",
       "      <td>0.825960</td>\n",
       "      <td>0.595640</td>\n",
       "      <td>24572</td>\n",
       "      <td>10.0</td>\n",
       "      <td>14715</td>\n",
       "      <td>9857</td>\n",
       "      <td>59.89</td>\n",
       "      <td>49145</td>\n",
       "      <td>37085</td>\n",
       "      <td>12060</td>\n",
       "      <td>20.0</td>\n",
       "      <td>63.62</td>\n",
       "      <td>6.43</td>\n",
       "      <td>57.19</td>\n",
       "      <td>3.18</td>\n",
       "      <td>0.326018</td>\n",
       "    </tr>\n",
       "    <tr>\n",
       "      <th>2</th>\n",
       "      <td>(0.253, 0.433]</td>\n",
       "      <td>0.252837</td>\n",
       "      <td>0.432945</td>\n",
       "      <td>0.335713</td>\n",
       "      <td>24573</td>\n",
       "      <td>10.0</td>\n",
       "      <td>8296</td>\n",
       "      <td>16277</td>\n",
       "      <td>33.76</td>\n",
       "      <td>73718</td>\n",
       "      <td>45381</td>\n",
       "      <td>28337</td>\n",
       "      <td>30.0</td>\n",
       "      <td>77.86</td>\n",
       "      <td>15.12</td>\n",
       "      <td>62.74</td>\n",
       "      <td>2.60</td>\n",
       "      <td>0.188652</td>\n",
       "    </tr>\n",
       "    <tr>\n",
       "      <th>3</th>\n",
       "      <td>(0.145, 0.253]</td>\n",
       "      <td>0.145430</td>\n",
       "      <td>0.252821</td>\n",
       "      <td>0.191783</td>\n",
       "      <td>24572</td>\n",
       "      <td>10.0</td>\n",
       "      <td>4550</td>\n",
       "      <td>20022</td>\n",
       "      <td>18.52</td>\n",
       "      <td>98290</td>\n",
       "      <td>49931</td>\n",
       "      <td>48359</td>\n",
       "      <td>40.0</td>\n",
       "      <td>85.66</td>\n",
       "      <td>25.80</td>\n",
       "      <td>59.86</td>\n",
       "      <td>2.14</td>\n",
       "      <td>0.658300</td>\n",
       "    </tr>\n",
       "    <tr>\n",
       "      <th>4</th>\n",
       "      <td>(0.087, 0.145]</td>\n",
       "      <td>0.086990</td>\n",
       "      <td>0.145420</td>\n",
       "      <td>0.112471</td>\n",
       "      <td>24572</td>\n",
       "      <td>10.0</td>\n",
       "      <td>2761</td>\n",
       "      <td>21811</td>\n",
       "      <td>11.24</td>\n",
       "      <td>122862</td>\n",
       "      <td>52692</td>\n",
       "      <td>70170</td>\n",
       "      <td>50.0</td>\n",
       "      <td>90.40</td>\n",
       "      <td>37.44</td>\n",
       "      <td>52.96</td>\n",
       "      <td>1.81</td>\n",
       "      <td>0.007064</td>\n",
       "    </tr>\n",
       "    <tr>\n",
       "      <th>5</th>\n",
       "      <td>(0.0614, 0.087]</td>\n",
       "      <td>0.061361</td>\n",
       "      <td>0.086989</td>\n",
       "      <td>0.071361</td>\n",
       "      <td>24573</td>\n",
       "      <td>10.0</td>\n",
       "      <td>2057</td>\n",
       "      <td>22516</td>\n",
       "      <td>8.37</td>\n",
       "      <td>147435</td>\n",
       "      <td>54749</td>\n",
       "      <td>92686</td>\n",
       "      <td>60.0</td>\n",
       "      <td>93.93</td>\n",
       "      <td>49.45</td>\n",
       "      <td>44.48</td>\n",
       "      <td>1.57</td>\n",
       "      <td>1.233900</td>\n",
       "    </tr>\n",
       "    <tr>\n",
       "      <th>6</th>\n",
       "      <td>(0.0543, 0.0614]</td>\n",
       "      <td>0.054294</td>\n",
       "      <td>0.061361</td>\n",
       "      <td>0.057289</td>\n",
       "      <td>24572</td>\n",
       "      <td>10.0</td>\n",
       "      <td>1548</td>\n",
       "      <td>23024</td>\n",
       "      <td>6.30</td>\n",
       "      <td>172007</td>\n",
       "      <td>56297</td>\n",
       "      <td>115710</td>\n",
       "      <td>70.0</td>\n",
       "      <td>96.58</td>\n",
       "      <td>61.73</td>\n",
       "      <td>34.85</td>\n",
       "      <td>1.38</td>\n",
       "      <td>0.571110</td>\n",
       "    </tr>\n",
       "    <tr>\n",
       "      <th>7</th>\n",
       "      <td>(0.0493, 0.0543]</td>\n",
       "      <td>0.049316</td>\n",
       "      <td>0.054294</td>\n",
       "      <td>0.051884</td>\n",
       "      <td>24573</td>\n",
       "      <td>10.0</td>\n",
       "      <td>952</td>\n",
       "      <td>23621</td>\n",
       "      <td>3.87</td>\n",
       "      <td>196580</td>\n",
       "      <td>57249</td>\n",
       "      <td>139331</td>\n",
       "      <td>80.0</td>\n",
       "      <td>98.22</td>\n",
       "      <td>74.33</td>\n",
       "      <td>23.89</td>\n",
       "      <td>1.23</td>\n",
       "      <td>1.318429</td>\n",
       "    </tr>\n",
       "    <tr>\n",
       "      <th>8</th>\n",
       "      <td>(0.0399, 0.0493]</td>\n",
       "      <td>0.039937</td>\n",
       "      <td>0.049316</td>\n",
       "      <td>0.045367</td>\n",
       "      <td>24572</td>\n",
       "      <td>10.0</td>\n",
       "      <td>632</td>\n",
       "      <td>23940</td>\n",
       "      <td>2.57</td>\n",
       "      <td>221152</td>\n",
       "      <td>57881</td>\n",
       "      <td>163271</td>\n",
       "      <td>90.0</td>\n",
       "      <td>99.30</td>\n",
       "      <td>87.11</td>\n",
       "      <td>12.19</td>\n",
       "      <td>1.10</td>\n",
       "      <td>1.966714</td>\n",
       "    </tr>\n",
       "    <tr>\n",
       "      <th>9</th>\n",
       "      <td>(0.00627, 0.0399]</td>\n",
       "      <td>0.007269</td>\n",
       "      <td>0.039936</td>\n",
       "      <td>0.027125</td>\n",
       "      <td>24573</td>\n",
       "      <td>10.0</td>\n",
       "      <td>407</td>\n",
       "      <td>24166</td>\n",
       "      <td>1.66</td>\n",
       "      <td>245725</td>\n",
       "      <td>58288</td>\n",
       "      <td>187437</td>\n",
       "      <td>100.0</td>\n",
       "      <td>100.00</td>\n",
       "      <td>100.00</td>\n",
       "      <td>0.00</td>\n",
       "      <td>1.00</td>\n",
       "      <td>1.052518</td>\n",
       "    </tr>\n",
       "  </tbody>\n",
       "</table>\n",
       "</div>"
      ],
      "text/plain": [
       "         GROUP SCORE  MIN SCORE  MAX SCORE  mean_score  TOTAL COUNT  \\\n",
       "0     (0.826, 0.999]   0.825961   0.998716    0.881684        24573   \n",
       "1     (0.433, 0.826]   0.432945   0.825960    0.595640        24572   \n",
       "2     (0.253, 0.433]   0.252837   0.432945    0.335713        24573   \n",
       "3     (0.145, 0.253]   0.145430   0.252821    0.191783        24572   \n",
       "4     (0.087, 0.145]   0.086990   0.145420    0.112471        24572   \n",
       "5    (0.0614, 0.087]   0.061361   0.086989    0.071361        24573   \n",
       "6   (0.0543, 0.0614]   0.054294   0.061361    0.057289        24572   \n",
       "7   (0.0493, 0.0543]   0.049316   0.054294    0.051884        24573   \n",
       "8   (0.0399, 0.0493]   0.039937   0.049316    0.045367        24572   \n",
       "9  (0.00627, 0.0399]   0.007269   0.039936    0.027125        24573   \n",
       "\n",
       "   % TOTAL COUNT  RESPONDERS  NON RESPONDERS  RESPONSE RATE (%)  \\\n",
       "0           10.0       22370            2203              91.03   \n",
       "1           10.0       14715            9857              59.89   \n",
       "2           10.0        8296           16277              33.76   \n",
       "3           10.0        4550           20022              18.52   \n",
       "4           10.0        2761           21811              11.24   \n",
       "5           10.0        2057           22516               8.37   \n",
       "6           10.0        1548           23024               6.30   \n",
       "7           10.0         952           23621               3.87   \n",
       "8           10.0         632           23940               2.57   \n",
       "9           10.0         407           24166               1.66   \n",
       "\n",
       "   CUM TOTAL COUNT  CUM RESPONDERS  CUM NON RESPONDERS  CUM % TOTAL COUNT  \\\n",
       "0            24573           22370                2203               10.0   \n",
       "1            49145           37085               12060               20.0   \n",
       "2            73718           45381               28337               30.0   \n",
       "3            98290           49931               48359               40.0   \n",
       "4           122862           52692               70170               50.0   \n",
       "5           147435           54749               92686               60.0   \n",
       "6           172007           56297              115710               70.0   \n",
       "7           196580           57249              139331               80.0   \n",
       "8           221152           57881              163271               90.0   \n",
       "9           245725           58288              187437              100.0   \n",
       "\n",
       "   CUM % RESPONDERS  CUM % NON RESPONDERS     KS  LIFT  abs_perc  \n",
       "0             38.38                  1.18  37.20  3.84  2.861647  \n",
       "1             63.62                  6.43  57.19  3.18  0.326018  \n",
       "2             77.86                 15.12  62.74  2.60  0.188652  \n",
       "3             85.66                 25.80  59.86  2.14  0.658300  \n",
       "4             90.40                 37.44  52.96  1.81  0.007064  \n",
       "5             93.93                 49.45  44.48  1.57  1.233900  \n",
       "6             96.58                 61.73  34.85  1.38  0.571110  \n",
       "7             98.22                 74.33  23.89  1.23  1.318429  \n",
       "8             99.30                 87.11  12.19  1.10  1.966714  \n",
       "9            100.00                100.00   0.00  1.00  1.052518  "
      ]
     },
     "execution_count": 110,
     "metadata": {},
     "output_type": "execute_result"
    }
   ],
   "source": [
    "KS_table(train_score[\"Is_Lead\"], train_score[\"prob\"])"
   ]
  },
  {
   "cell_type": "code",
   "execution_count": 111,
   "id": "7b8b6bdc",
   "metadata": {},
   "outputs": [],
   "source": [
    "#######................................Thanks..................................#######"
   ]
  }
 ],
 "metadata": {
  "kernelspec": {
   "display_name": "Python 3",
   "language": "python",
   "name": "python3"
  },
  "language_info": {
   "codemirror_mode": {
    "name": "ipython",
    "version": 3
   },
   "file_extension": ".py",
   "mimetype": "text/x-python",
   "name": "python",
   "nbconvert_exporter": "python",
   "pygments_lexer": "ipython3",
   "version": "3.8.8"
  }
 },
 "nbformat": 4,
 "nbformat_minor": 5
}
